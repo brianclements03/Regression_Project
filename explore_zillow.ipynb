{
 "cells": [
  {
   "cell_type": "code",
   "execution_count": 1,
   "id": "305c8ff5",
   "metadata": {},
   "outputs": [],
   "source": [
    "import matplotlib.pyplot as plt\n",
    "import numpy as np\n",
    "import pandas as pd\n",
    "from pydataset import data\n",
    "import statistics\n",
    "import seaborn as sns\n",
    "import env\n",
    "from sklearn.model_selection import train_test_split\n",
    "from sklearn.impute import SimpleImputer\n",
    "import scipy\n",
    "import acquire\n",
    "import prepare\n",
    "from scipy import stats\n",
    "\n",
    "from sklearn.tree import DecisionTreeClassifier\n",
    "from sklearn.tree import export_graphviz\n",
    "from sklearn.metrics import classification_report\n",
    "from sklearn.metrics import confusion_matrix\n",
    "from sklearn.ensemble import RandomForestClassifier\n",
    "from sklearn.neighbors import KNeighborsClassifier\n",
    "from sklearn.linear_model import LogisticRegression\n",
    "import sklearn.linear_model\n",
    "import sklearn.preprocessing\n",
    "import warnings\n",
    "warnings.filterwarnings(\"ignore\")\n",
    "# importing my personal wrangle module\n",
    "import wrangle\n",
    "import explore"
   ]
  },
  {
   "cell_type": "code",
   "execution_count": 2,
   "id": "0a8b377d",
   "metadata": {},
   "outputs": [],
   "source": [
    "# Acquiring the data using the above module\n",
    "zillow_sql_query = wrangle.get_zillow_data()\n",
    "# PLEASE THINK ABOUT ADDING A ZILLOW_COPY TO WORK WITH FROM HERE, THEREBY AVOIDING FUTURE SQL QUERIES\n",
    "# Code below will have to be updated accordingly.  \n",
    "zillow = zillow_sql_query.copy()"
   ]
  },
  {
   "cell_type": "code",
   "execution_count": 3,
   "id": "fb7ca617",
   "metadata": {},
   "outputs": [
    {
     "data": {
      "text/html": [
       "<div>\n",
       "<style scoped>\n",
       "    .dataframe tbody tr th:only-of-type {\n",
       "        vertical-align: middle;\n",
       "    }\n",
       "\n",
       "    .dataframe tbody tr th {\n",
       "        vertical-align: top;\n",
       "    }\n",
       "\n",
       "    .dataframe thead th {\n",
       "        text-align: right;\n",
       "    }\n",
       "</style>\n",
       "<table border=\"1\" class=\"dataframe\">\n",
       "  <thead>\n",
       "    <tr style=\"text-align: right;\">\n",
       "      <th></th>\n",
       "      <th>bedroomcnt</th>\n",
       "      <th>bathroomcnt</th>\n",
       "      <th>calculatedfinishedsquarefeet</th>\n",
       "      <th>taxvaluedollarcnt</th>\n",
       "      <th>yearbuilt</th>\n",
       "      <th>taxamount</th>\n",
       "      <th>fips</th>\n",
       "    </tr>\n",
       "  </thead>\n",
       "  <tbody>\n",
       "    <tr>\n",
       "      <th>0</th>\n",
       "      <td>4.0</td>\n",
       "      <td>3.5</td>\n",
       "      <td>3100.0</td>\n",
       "      <td>1023282.0</td>\n",
       "      <td>1998.0</td>\n",
       "      <td>11013.72</td>\n",
       "      <td>6059.0</td>\n",
       "    </tr>\n",
       "    <tr>\n",
       "      <th>1</th>\n",
       "      <td>2.0</td>\n",
       "      <td>1.0</td>\n",
       "      <td>1465.0</td>\n",
       "      <td>464000.0</td>\n",
       "      <td>1967.0</td>\n",
       "      <td>5672.48</td>\n",
       "      <td>6111.0</td>\n",
       "    </tr>\n",
       "    <tr>\n",
       "      <th>2</th>\n",
       "      <td>3.0</td>\n",
       "      <td>2.0</td>\n",
       "      <td>1243.0</td>\n",
       "      <td>564778.0</td>\n",
       "      <td>1962.0</td>\n",
       "      <td>6488.30</td>\n",
       "      <td>6059.0</td>\n",
       "    </tr>\n",
       "    <tr>\n",
       "      <th>3</th>\n",
       "      <td>4.0</td>\n",
       "      <td>3.0</td>\n",
       "      <td>2376.0</td>\n",
       "      <td>145143.0</td>\n",
       "      <td>1970.0</td>\n",
       "      <td>1777.51</td>\n",
       "      <td>6037.0</td>\n",
       "    </tr>\n",
       "    <tr>\n",
       "      <th>4</th>\n",
       "      <td>4.0</td>\n",
       "      <td>3.0</td>\n",
       "      <td>2962.0</td>\n",
       "      <td>773303.0</td>\n",
       "      <td>1950.0</td>\n",
       "      <td>9516.26</td>\n",
       "      <td>6037.0</td>\n",
       "    </tr>\n",
       "  </tbody>\n",
       "</table>\n",
       "</div>"
      ],
      "text/plain": [
       "   bedroomcnt  bathroomcnt  calculatedfinishedsquarefeet  taxvaluedollarcnt  \\\n",
       "0         4.0          3.5                        3100.0          1023282.0   \n",
       "1         2.0          1.0                        1465.0           464000.0   \n",
       "2         3.0          2.0                        1243.0           564778.0   \n",
       "3         4.0          3.0                        2376.0           145143.0   \n",
       "4         4.0          3.0                        2962.0           773303.0   \n",
       "\n",
       "   yearbuilt  taxamount    fips  \n",
       "0     1998.0   11013.72  6059.0  \n",
       "1     1967.0    5672.48  6111.0  \n",
       "2     1962.0    6488.30  6059.0  \n",
       "3     1970.0    1777.51  6037.0  \n",
       "4     1950.0    9516.26  6037.0  "
      ]
     },
     "execution_count": 3,
     "metadata": {},
     "output_type": "execute_result"
    }
   ],
   "source": [
    "zillow.head()"
   ]
  },
  {
   "cell_type": "code",
   "execution_count": 4,
   "id": "066d054a",
   "metadata": {},
   "outputs": [],
   "source": [
    "# Using my wrangle module to clean and prep the data. NaNs are dropped; so are outliers. \n",
    "# In the end, I added an 'age' column and deleted the yearbuilt column (which was more like a categorical variable)\n",
    "# No outliers were removed from year built, age, or fips\n",
    "zillow = wrangle.clean_and_prep_data(zillow)"
   ]
  },
  {
   "cell_type": "markdown",
   "id": "3d6f2803",
   "metadata": {},
   "source": [
    "Consider dropping yearbuilt as a column--this is a categorical and is closely related to age, which will be the feature we use instead.\n",
    "\n",
    "Consider the k value used removing outliers--there are a couple features that may be better with a different value.  I'm thinking of the 1 bedroom houses, for example."
   ]
  },
  {
   "cell_type": "code",
   "execution_count": 5,
   "id": "58bdfe31",
   "metadata": {},
   "outputs": [
    {
     "data": {
      "text/html": [
       "<div>\n",
       "<style scoped>\n",
       "    .dataframe tbody tr th:only-of-type {\n",
       "        vertical-align: middle;\n",
       "    }\n",
       "\n",
       "    .dataframe tbody tr th {\n",
       "        vertical-align: top;\n",
       "    }\n",
       "\n",
       "    .dataframe thead th {\n",
       "        text-align: right;\n",
       "    }\n",
       "</style>\n",
       "<table border=\"1\" class=\"dataframe\">\n",
       "  <thead>\n",
       "    <tr style=\"text-align: right;\">\n",
       "      <th></th>\n",
       "      <th>bedrooms</th>\n",
       "      <th>bathrooms</th>\n",
       "      <th>sq_ft</th>\n",
       "      <th>tax_value</th>\n",
       "      <th>county</th>\n",
       "      <th>age</th>\n",
       "      <th>sq_ft_per_bathroom</th>\n",
       "    </tr>\n",
       "  </thead>\n",
       "  <tbody>\n",
       "    <tr>\n",
       "      <th>0</th>\n",
       "      <td>4.0</td>\n",
       "      <td>3.5</td>\n",
       "      <td>3100.0</td>\n",
       "      <td>1023282.0</td>\n",
       "      <td>Orange</td>\n",
       "      <td>23</td>\n",
       "      <td>885.714286</td>\n",
       "    </tr>\n",
       "    <tr>\n",
       "      <th>1</th>\n",
       "      <td>2.0</td>\n",
       "      <td>1.0</td>\n",
       "      <td>1465.0</td>\n",
       "      <td>464000.0</td>\n",
       "      <td>Ventura</td>\n",
       "      <td>54</td>\n",
       "      <td>1465.000000</td>\n",
       "    </tr>\n",
       "    <tr>\n",
       "      <th>2</th>\n",
       "      <td>3.0</td>\n",
       "      <td>2.0</td>\n",
       "      <td>1243.0</td>\n",
       "      <td>564778.0</td>\n",
       "      <td>Orange</td>\n",
       "      <td>59</td>\n",
       "      <td>621.500000</td>\n",
       "    </tr>\n",
       "    <tr>\n",
       "      <th>3</th>\n",
       "      <td>4.0</td>\n",
       "      <td>3.0</td>\n",
       "      <td>2376.0</td>\n",
       "      <td>145143.0</td>\n",
       "      <td>LA</td>\n",
       "      <td>51</td>\n",
       "      <td>792.000000</td>\n",
       "    </tr>\n",
       "    <tr>\n",
       "      <th>4</th>\n",
       "      <td>4.0</td>\n",
       "      <td>3.0</td>\n",
       "      <td>2962.0</td>\n",
       "      <td>773303.0</td>\n",
       "      <td>LA</td>\n",
       "      <td>71</td>\n",
       "      <td>987.333333</td>\n",
       "    </tr>\n",
       "  </tbody>\n",
       "</table>\n",
       "</div>"
      ],
      "text/plain": [
       "   bedrooms  bathrooms   sq_ft  tax_value   county  age  sq_ft_per_bathroom\n",
       "0       4.0        3.5  3100.0  1023282.0   Orange   23          885.714286\n",
       "1       2.0        1.0  1465.0   464000.0  Ventura   54         1465.000000\n",
       "2       3.0        2.0  1243.0   564778.0   Orange   59          621.500000\n",
       "3       4.0        3.0  2376.0   145143.0       LA   51          792.000000\n",
       "4       4.0        3.0  2962.0   773303.0       LA   71          987.333333"
      ]
     },
     "execution_count": 5,
     "metadata": {},
     "output_type": "execute_result"
    }
   ],
   "source": [
    "zillow.head()"
   ]
  },
  {
   "cell_type": "code",
   "execution_count": 6,
   "id": "1c926277",
   "metadata": {},
   "outputs": [
    {
     "data": {
      "text/plain": [
       "((44864, 7), (52442, 7))"
      ]
     },
     "execution_count": 6,
     "metadata": {},
     "output_type": "execute_result"
    }
   ],
   "source": [
    "zillow.shape, zillow_sql_query.shape\n",
    "# my clean_and_prep function is cutting down the size here, it wasn't me"
   ]
  },
  {
   "cell_type": "code",
   "execution_count": 7,
   "id": "6cc17867",
   "metadata": {},
   "outputs": [
    {
     "name": "stdout",
     "output_type": "stream",
     "text": [
      "<class 'pandas.core.frame.DataFrame'>\n",
      "Int64Index: 44864 entries, 0 to 52441\n",
      "Data columns (total 7 columns):\n",
      " #   Column              Non-Null Count  Dtype  \n",
      "---  ------              --------------  -----  \n",
      " 0   bedrooms            44864 non-null  float64\n",
      " 1   bathrooms           44864 non-null  float64\n",
      " 2   sq_ft               44864 non-null  float64\n",
      " 3   tax_value           44864 non-null  float64\n",
      " 4   county              44864 non-null  object \n",
      " 5   age                 44864 non-null  int64  \n",
      " 6   sq_ft_per_bathroom  44864 non-null  float64\n",
      "dtypes: float64(5), int64(1), object(1)\n",
      "memory usage: 2.7+ MB\n"
     ]
    }
   ],
   "source": [
    "zillow.info()"
   ]
  },
  {
   "cell_type": "code",
   "execution_count": 8,
   "id": "0cb7da39",
   "metadata": {},
   "outputs": [
    {
     "data": {
      "text/plain": [
       "bedrooms              0\n",
       "bathrooms             0\n",
       "sq_ft                 0\n",
       "tax_value             0\n",
       "county                0\n",
       "age                   0\n",
       "sq_ft_per_bathroom    0\n",
       "dtype: int64"
      ]
     },
     "execution_count": 8,
     "metadata": {},
     "output_type": "execute_result"
    }
   ],
   "source": [
    "# checking for null values\n",
    "zillow.isnull().sum()"
   ]
  },
  {
   "cell_type": "code",
   "execution_count": 9,
   "id": "9ec73142",
   "metadata": {
    "scrolled": true
   },
   "outputs": [
    {
     "name": "stdout",
     "output_type": "stream",
     "text": [
      "5.0     2255\n",
      "2.0     7981\n",
      "4.0    12802\n",
      "3.0    21826\n",
      "Name: bedrooms, dtype: int64\n",
      "3.5      422\n",
      "1.5      832\n",
      "4.0      960\n",
      "2.5     3708\n",
      "1.0     8846\n",
      "3.0     9108\n",
      "2.0    20988\n",
      "Name: bathrooms, dtype: int64\n",
      "552.0       1\n",
      "3202.0      1\n",
      "468.0       1\n",
      "3498.0      1\n",
      "3493.0      1\n",
      "         ... \n",
      "1040.0     84\n",
      "936.0      86\n",
      "1080.0    100\n",
      "1200.0    116\n",
      "1120.0    127\n",
      "Name: sq_ft, Length: 2905, dtype: int64\n",
      "134063.0     1\n",
      "651170.0     1\n",
      "509145.0     1\n",
      "474661.0     1\n",
      "437595.0     1\n",
      "            ..\n",
      "550000.0    23\n",
      "450000.0    23\n",
      "500000.0    24\n",
      "600000.0    30\n",
      "455000.0    33\n",
      "Name: tax_value, Length: 32879, dtype: int64\n",
      "Ventura     3828\n",
      "Orange     11835\n",
      "LA         29201\n",
      "Name: county, dtype: int64\n",
      "127       1\n",
      "143       1\n",
      "141       1\n",
      "124       1\n",
      "139       1\n",
      "5         2\n",
      "134       2\n",
      "122       2\n",
      "133       3\n",
      "128       3\n",
      "123       5\n",
      "136       5\n",
      "125       5\n",
      "131       6\n",
      "121       9\n",
      "119      11\n",
      "126      12\n",
      "120      13\n",
      "117      15\n",
      "118      17\n",
      "105      32\n",
      "6        33\n",
      "114      36\n",
      "104      37\n",
      "87       41\n",
      "88       42\n",
      "103      45\n",
      "115      47\n",
      "12       49\n",
      "113      53\n",
      "116      54\n",
      "10       54\n",
      "9        56\n",
      "112      59\n",
      "102      62\n",
      "11       64\n",
      "107      65\n",
      "106      67\n",
      "8        68\n",
      "89       68\n",
      "13       72\n",
      "7        79\n",
      "108      85\n",
      "110      87\n",
      "86       92\n",
      "90       92\n",
      "111     107\n",
      "109     111\n",
      "39      125\n",
      "101     138\n",
      "78      143\n",
      "76      152\n",
      "91      154\n",
      "14      158\n",
      "100     160\n",
      "85      182\n",
      "30      187\n",
      "92      203\n",
      "84      219\n",
      "15      219\n",
      "28      225\n",
      "25      242\n",
      "23      249\n",
      "93      253\n",
      "40      255\n",
      "17      255\n",
      "19      257\n",
      "38      260\n",
      "29      260\n",
      "26      262\n",
      "18      267\n",
      "24      268\n",
      "22      268\n",
      "94      275\n",
      "16      285\n",
      "27      288\n",
      "83      291\n",
      "79      296\n",
      "21      296\n",
      "77      301\n",
      "99      310\n",
      "75      337\n",
      "46      338\n",
      "20      341\n",
      "95      346\n",
      "54      365\n",
      "82      369\n",
      "37      378\n",
      "41      386\n",
      "96      387\n",
      "47      394\n",
      "97      400\n",
      "33      413\n",
      "98      415\n",
      "51      425\n",
      "36      427\n",
      "81      448\n",
      "80      450\n",
      "31      479\n",
      "55      509\n",
      "42      532\n",
      "50      537\n",
      "35      541\n",
      "52      556\n",
      "53      567\n",
      "43      571\n",
      "34      598\n",
      "48      653\n",
      "49      653\n",
      "45      672\n",
      "32      704\n",
      "63      725\n",
      "44      730\n",
      "60      754\n",
      "61      818\n",
      "73      823\n",
      "72      874\n",
      "74      907\n",
      "56      921\n",
      "64      929\n",
      "59      932\n",
      "58      947\n",
      "62      978\n",
      "70     1070\n",
      "69     1080\n",
      "57     1192\n",
      "65     1298\n",
      "68     1385\n",
      "67     1433\n",
      "71     1491\n",
      "66     1811\n",
      "Name: age, dtype: int64\n"
     ]
    }
   ],
   "source": [
    "# This is a for loop that is checking every column for any white space. there isn't any\n",
    "# also the NaNs, actually. gone now.\n",
    "cols = ['bedrooms', 'bathrooms', 'sq_ft', 'tax_value', 'county','age']\n",
    "for col in cols:\n",
    "    print(zillow[col].value_counts(dropna=False,ascending=True))"
   ]
  },
  {
   "cell_type": "code",
   "execution_count": 10,
   "id": "0ff5695b",
   "metadata": {
    "scrolled": true
   },
   "outputs": [
    {
     "data": {
      "image/png": "[encoded data removed]",
      "text/plain": [
       "<Figure size 1152x216 with 5 Axes>"
      ]
     },
     "metadata": {
      "needs_background": "light"
     },
     "output_type": "display_data"
    },
    {
     "data": {
      "image/png": "[encoded data removed]",
      "text/plain": [
       "<Figure size 1152x216 with 5 Axes>"
      ]
     },
     "metadata": {
      "needs_background": "light"
     },
     "output_type": "display_data"
    }
   ],
   "source": [
    "# Here, we create a for loop that makes a histogram for every column. This is the start of my univariate analysis\n",
    "\n",
    "plt.figure(figsize=(16, 3))\n",
    "\n",
    "# List of columns\n",
    "cols = ['bedrooms', 'bathrooms','sq_ft','tax_value', 'age']\n",
    "# Note the enumerate code, which is functioning to make a counter for use in successive plots.\n",
    "\n",
    "for i, col in enumerate(cols):\n",
    "    \n",
    "    # i starts at 0, but plot nos should start at 1\n",
    "    plot_number = i + 1 \n",
    "    \n",
    "    # Create subplot.\n",
    "    plt.subplot(1,8, plot_number)\n",
    "    \n",
    "    # Title with column name.\n",
    "    plt.title(col)\n",
    "    \n",
    "    # Display histogram for column.\n",
    "    zillow[col].hist(bins=10, edgecolor='black')\n",
    "    \n",
    "    # Hide gridlines.\n",
    "    plt.grid(False)\n",
    "    \n",
    "    plt.tight_layout()\n",
    "    \n",
    ",\n",
    "\n",
    "plt.figure(figsize=(16, 3))\n",
    "\n",
    "for i, col in enumerate(cols):\n",
    "    \n",
    "    # i starts at 0, but plot nos should start at 1\n",
    "    plot_number = i + 1 \n",
    "    \n",
    "    # Create subplot.\n",
    "    plt.subplot(1,7, plot_number)\n",
    "    \n",
    "    # Title with column name.\n",
    "    plt.title(col)\n",
    "    \n",
    "    # Display histogram for column.\n",
    "    plt.boxplot(zillow[col])\n",
    "    \n",
    "    # Hide gridlines.\n",
    "    plt.grid(False)\n",
    "    \n",
    "    plt.tight_layout()"
   ]
  },
  {
   "cell_type": "code",
   "execution_count": 11,
   "id": "33452cfc",
   "metadata": {
    "scrolled": true
   },
   "outputs": [
    {
     "data": {
      "image/png": "[encoded data removed]",
      "text/plain": [
       "<Figure size 432x288 with 1 Axes>"
      ]
     },
     "metadata": {
      "needs_background": "light"
     },
     "output_type": "display_data"
    },
    {
     "data": {
      "image/png": "[encoded data removed]",
      "text/plain": [
       "<Figure size 432x288 with 1 Axes>"
      ]
     },
     "metadata": {
      "needs_background": "light"
     },
     "output_type": "display_data"
    }
   ],
   "source": [
    "disc_vars = ['bedrooms','bathrooms']\n",
    "for var in disc_vars:\n",
    "    plt.figure()\n",
    "    sns.countplot(x=var,data=zillow)"
   ]
  },
  {
   "cell_type": "code",
   "execution_count": 12,
   "id": "d2178e8d",
   "metadata": {},
   "outputs": [
    {
     "data": {
      "text/html": [
       "<div>\n",
       "<style scoped>\n",
       "    .dataframe tbody tr th:only-of-type {\n",
       "        vertical-align: middle;\n",
       "    }\n",
       "\n",
       "    .dataframe tbody tr th {\n",
       "        vertical-align: top;\n",
       "    }\n",
       "\n",
       "    .dataframe thead th {\n",
       "        text-align: right;\n",
       "    }\n",
       "</style>\n",
       "<table border=\"1\" class=\"dataframe\">\n",
       "  <thead>\n",
       "    <tr style=\"text-align: right;\">\n",
       "      <th></th>\n",
       "      <th>count</th>\n",
       "      <th>mean</th>\n",
       "      <th>std</th>\n",
       "      <th>min</th>\n",
       "      <th>25%</th>\n",
       "      <th>50%</th>\n",
       "      <th>75%</th>\n",
       "      <th>max</th>\n",
       "    </tr>\n",
       "  </thead>\n",
       "  <tbody>\n",
       "    <tr>\n",
       "      <th>bedrooms</th>\n",
       "      <td>44864.0</td>\n",
       "      <td>3.21</td>\n",
       "      <td>0.79</td>\n",
       "      <td>2.0</td>\n",
       "      <td>3.0</td>\n",
       "      <td>3.0</td>\n",
       "      <td>4.0</td>\n",
       "      <td>5.0</td>\n",
       "    </tr>\n",
       "    <tr>\n",
       "      <th>bathrooms</th>\n",
       "      <td>44864.0</td>\n",
       "      <td>2.09</td>\n",
       "      <td>0.72</td>\n",
       "      <td>1.0</td>\n",
       "      <td>2.0</td>\n",
       "      <td>2.0</td>\n",
       "      <td>2.5</td>\n",
       "      <td>4.0</td>\n",
       "    </tr>\n",
       "    <tr>\n",
       "      <th>sq_ft</th>\n",
       "      <td>44864.0</td>\n",
       "      <td>1694.01</td>\n",
       "      <td>605.61</td>\n",
       "      <td>152.0</td>\n",
       "      <td>1238.0</td>\n",
       "      <td>1568.0</td>\n",
       "      <td>2050.0</td>\n",
       "      <td>3566.0</td>\n",
       "    </tr>\n",
       "    <tr>\n",
       "      <th>tax_value</th>\n",
       "      <td>44864.0</td>\n",
       "      <td>363580.89</td>\n",
       "      <td>233629.59</td>\n",
       "      <td>1000.0</td>\n",
       "      <td>171473.0</td>\n",
       "      <td>331368.0</td>\n",
       "      <td>511394.0</td>\n",
       "      <td>1122409.0</td>\n",
       "    </tr>\n",
       "    <tr>\n",
       "      <th>age</th>\n",
       "      <td>44864.0</td>\n",
       "      <td>58.98</td>\n",
       "      <td>21.62</td>\n",
       "      <td>5.0</td>\n",
       "      <td>45.0</td>\n",
       "      <td>61.0</td>\n",
       "      <td>71.0</td>\n",
       "      <td>143.0</td>\n",
       "    </tr>\n",
       "    <tr>\n",
       "      <th>sq_ft_per_bathroom</th>\n",
       "      <td>44864.0</td>\n",
       "      <td>840.16</td>\n",
       "      <td>227.00</td>\n",
       "      <td>76.0</td>\n",
       "      <td>683.0</td>\n",
       "      <td>803.0</td>\n",
       "      <td>955.0</td>\n",
       "      <td>3438.0</td>\n",
       "    </tr>\n",
       "  </tbody>\n",
       "</table>\n",
       "</div>"
      ],
      "text/plain": [
       "                      count       mean        std     min       25%       50%  \\\n",
       "bedrooms            44864.0       3.21       0.79     2.0       3.0       3.0   \n",
       "bathrooms           44864.0       2.09       0.72     1.0       2.0       2.0   \n",
       "sq_ft               44864.0    1694.01     605.61   152.0    1238.0    1568.0   \n",
       "tax_value           44864.0  363580.89  233629.59  1000.0  171473.0  331368.0   \n",
       "age                 44864.0      58.98      21.62     5.0      45.0      61.0   \n",
       "sq_ft_per_bathroom  44864.0     840.16     227.00    76.0     683.0     803.0   \n",
       "\n",
       "                         75%        max  \n",
       "bedrooms                 4.0        5.0  \n",
       "bathrooms                2.5        4.0  \n",
       "sq_ft                 2050.0     3566.0  \n",
       "tax_value           511394.0  1122409.0  \n",
       "age                     71.0      143.0  \n",
       "sq_ft_per_bathroom     955.0     3438.0  "
      ]
     },
     "execution_count": 12,
     "metadata": {},
     "output_type": "execute_result"
    }
   ],
   "source": [
    "# Describe was displaying with scientific notation, so I rounded to 2 places.  \n",
    "round(zillow.describe(),2).T"
   ]
  },
  {
   "cell_type": "markdown",
   "id": "77b06ae1",
   "metadata": {},
   "source": [
    "### Notice the minimum bedrooms is 2.  I'm sure there were some useful one bedrooms before I removed the outliers.\n",
    "### The minimum of 1 square foot isn't correct and should be addressed after arriving at MVP.  However, see the problems i was having figuring that out below.  moving on \n",
    "### These are homes around in Los Angeles, Ventura, and Orange County, CA\n",
    "\n",
    "## Next steps: encode columns and split\n",
    "### Encode the following:\n",
    "- ['bedroomcnt','bathroomcnt','fips'] .... on second thought, only encode fips\n",
    "- I will not use the yearbuilt in the final analysis, and instead use age, which is almost the same thing for my purposes."
   ]
  },
  {
   "cell_type": "code",
   "execution_count": 13,
   "id": "2c7cf777",
   "metadata": {},
   "outputs": [
    {
     "data": {
      "text/html": [
       "<div>\n",
       "<style scoped>\n",
       "    .dataframe tbody tr th:only-of-type {\n",
       "        vertical-align: middle;\n",
       "    }\n",
       "\n",
       "    .dataframe tbody tr th {\n",
       "        vertical-align: top;\n",
       "    }\n",
       "\n",
       "    .dataframe thead th {\n",
       "        text-align: right;\n",
       "    }\n",
       "</style>\n",
       "<table border=\"1\" class=\"dataframe\">\n",
       "  <thead>\n",
       "    <tr style=\"text-align: right;\">\n",
       "      <th></th>\n",
       "      <th>bedrooms</th>\n",
       "      <th>bathrooms</th>\n",
       "      <th>sq_ft</th>\n",
       "      <th>tax_value</th>\n",
       "      <th>county</th>\n",
       "      <th>age</th>\n",
       "      <th>sq_ft_per_bathroom</th>\n",
       "      <th>LA</th>\n",
       "      <th>Orange</th>\n",
       "      <th>Ventura</th>\n",
       "    </tr>\n",
       "  </thead>\n",
       "  <tbody>\n",
       "    <tr>\n",
       "      <th>0</th>\n",
       "      <td>4.0</td>\n",
       "      <td>3.5</td>\n",
       "      <td>3100.0</td>\n",
       "      <td>1023282.0</td>\n",
       "      <td>Orange</td>\n",
       "      <td>23</td>\n",
       "      <td>885.714286</td>\n",
       "      <td>0</td>\n",
       "      <td>1</td>\n",
       "      <td>0</td>\n",
       "    </tr>\n",
       "    <tr>\n",
       "      <th>1</th>\n",
       "      <td>2.0</td>\n",
       "      <td>1.0</td>\n",
       "      <td>1465.0</td>\n",
       "      <td>464000.0</td>\n",
       "      <td>Ventura</td>\n",
       "      <td>54</td>\n",
       "      <td>1465.000000</td>\n",
       "      <td>0</td>\n",
       "      <td>0</td>\n",
       "      <td>1</td>\n",
       "    </tr>\n",
       "    <tr>\n",
       "      <th>2</th>\n",
       "      <td>3.0</td>\n",
       "      <td>2.0</td>\n",
       "      <td>1243.0</td>\n",
       "      <td>564778.0</td>\n",
       "      <td>Orange</td>\n",
       "      <td>59</td>\n",
       "      <td>621.500000</td>\n",
       "      <td>0</td>\n",
       "      <td>1</td>\n",
       "      <td>0</td>\n",
       "    </tr>\n",
       "    <tr>\n",
       "      <th>3</th>\n",
       "      <td>4.0</td>\n",
       "      <td>3.0</td>\n",
       "      <td>2376.0</td>\n",
       "      <td>145143.0</td>\n",
       "      <td>LA</td>\n",
       "      <td>51</td>\n",
       "      <td>792.000000</td>\n",
       "      <td>1</td>\n",
       "      <td>0</td>\n",
       "      <td>0</td>\n",
       "    </tr>\n",
       "    <tr>\n",
       "      <th>4</th>\n",
       "      <td>4.0</td>\n",
       "      <td>3.0</td>\n",
       "      <td>2962.0</td>\n",
       "      <td>773303.0</td>\n",
       "      <td>LA</td>\n",
       "      <td>71</td>\n",
       "      <td>987.333333</td>\n",
       "      <td>1</td>\n",
       "      <td>0</td>\n",
       "      <td>0</td>\n",
       "    </tr>\n",
       "  </tbody>\n",
       "</table>\n",
       "</div>"
      ],
      "text/plain": [
       "   bedrooms  bathrooms   sq_ft  tax_value   county  age  sq_ft_per_bathroom  \\\n",
       "0       4.0        3.5  3100.0  1023282.0   Orange   23          885.714286   \n",
       "1       2.0        1.0  1465.0   464000.0  Ventura   54         1465.000000   \n",
       "2       3.0        2.0  1243.0   564778.0   Orange   59          621.500000   \n",
       "3       4.0        3.0  2376.0   145143.0       LA   51          792.000000   \n",
       "4       4.0        3.0  2962.0   773303.0       LA   71          987.333333   \n",
       "\n",
       "   LA  Orange  Ventura  \n",
       "0   0       1        0  \n",
       "1   0       0        1  \n",
       "2   0       1        0  \n",
       "3   1       0        0  \n",
       "4   1       0        0  "
      ]
     },
     "execution_count": 13,
     "metadata": {},
     "output_type": "execute_result"
    }
   ],
   "source": [
    "encoded = wrangle.encode_zillow(zillow)\n",
    "encoded.head()"
   ]
  },
  {
   "cell_type": "markdown",
   "id": "12485b71",
   "metadata": {},
   "source": [
    "# SPLITTING"
   ]
  },
  {
   "cell_type": "code",
   "execution_count": 14,
   "id": "002e4e8d",
   "metadata": {
    "scrolled": false
   },
   "outputs": [
    {
     "data": {
      "text/plain": [
       "((25123, 10),\n",
       " (10768, 10),\n",
       " (8973, 10),\n",
       " (25123, 9),\n",
       " (25123, 1),\n",
       " (10768, 9),\n",
       " (10768, 1),\n",
       " (8973, 9),\n",
       " (8973, 1))"
      ]
     },
     "execution_count": 14,
     "metadata": {},
     "output_type": "execute_result"
    }
   ],
   "source": [
    "train, validate, test,X_train, y_train, X_validate, y_validate, X_test, y_test = wrangle.split_zillow(encoded)\n",
    "train.shape, validate.shape, test.shape,X_train.shape, y_train.shape, X_validate.shape, y_validate.shape, X_test.shape, y_test.shape"
   ]
  },
  {
   "cell_type": "markdown",
   "id": "25921e40",
   "metadata": {},
   "source": [
    "# SCALING\n",
    "### I've done it in this order so I can explore different data sets as is appropriate"
   ]
  },
  {
   "cell_type": "code",
   "execution_count": 15,
   "id": "30c7a3b0",
   "metadata": {},
   "outputs": [
    {
     "ename": "ValueError",
     "evalue": "could not convert string to float: 'LA'",
     "output_type": "error",
     "traceback": [
      "\u001b[0;31m---------------------------------------------------------------------------\u001b[0m",
      "\u001b[0;31mValueError\u001b[0m                                Traceback (most recent call last)",
      "\u001b[0;32m<ipython-input-15-def72aa559fb>\u001b[0m in \u001b[0;36m<module>\u001b[0;34m\u001b[0m\n\u001b[0;32m----> 1\u001b[0;31m \u001b[0mtrain_scaled\u001b[0m\u001b[0;34m,\u001b[0m \u001b[0mvalidate_scaled\u001b[0m\u001b[0;34m,\u001b[0m \u001b[0mtest_scaled\u001b[0m\u001b[0;34m,\u001b[0m \u001b[0mX_train_scaled\u001b[0m\u001b[0;34m,\u001b[0m \u001b[0my_train_scaled\u001b[0m\u001b[0;34m,\u001b[0m \u001b[0mX_validate_scaled\u001b[0m\u001b[0;34m,\u001b[0m \u001b[0my_validate_scaled\u001b[0m\u001b[0;34m,\u001b[0m \u001b[0mX_test_scaled\u001b[0m\u001b[0;34m,\u001b[0m \u001b[0my_test_scaled\u001b[0m \u001b[0;34m=\u001b[0m \u001b[0mwrangle\u001b[0m\u001b[0;34m.\u001b[0m\u001b[0mscale_zillow\u001b[0m\u001b[0;34m(\u001b[0m\u001b[0mtrain\u001b[0m\u001b[0;34m,\u001b[0m\u001b[0mvalidate\u001b[0m\u001b[0;34m,\u001b[0m\u001b[0mtest\u001b[0m\u001b[0;34m)\u001b[0m\u001b[0;34m\u001b[0m\u001b[0;34m\u001b[0m\u001b[0m\n\u001b[0m\u001b[1;32m      2\u001b[0m \u001b[0mtrain_scaled\u001b[0m\u001b[0;34m,\u001b[0m \u001b[0mvalidate_scaled\u001b[0m\u001b[0;34m,\u001b[0m \u001b[0mtest_scaled\u001b[0m\u001b[0;34m,\u001b[0m \u001b[0mX_train_scaled\u001b[0m\u001b[0;34m,\u001b[0m \u001b[0my_train_scaled\u001b[0m\u001b[0;34m,\u001b[0m \u001b[0mX_validate_scaled\u001b[0m\u001b[0;34m,\u001b[0m \u001b[0my_validate_scaled\u001b[0m\u001b[0;34m,\u001b[0m \u001b[0mX_test_scaled\u001b[0m\u001b[0;34m,\u001b[0m \u001b[0my_test_scaled\u001b[0m\u001b[0;34m\u001b[0m\u001b[0;34m\u001b[0m\u001b[0m\n",
      "\u001b[0;32m~/codeup-data-science/Regression_Project/wrangle.py\u001b[0m in \u001b[0;36mscale_zillow\u001b[0;34m(train, validate, test)\u001b[0m\n\u001b[1;32m    192\u001b[0m     \u001b[0mscaler\u001b[0m \u001b[0;34m=\u001b[0m \u001b[0msklearn\u001b[0m\u001b[0;34m.\u001b[0m\u001b[0mpreprocessing\u001b[0m\u001b[0;34m.\u001b[0m\u001b[0mMinMaxScaler\u001b[0m\u001b[0;34m(\u001b[0m\u001b[0;34m)\u001b[0m\u001b[0;34m\u001b[0m\u001b[0;34m\u001b[0m\u001b[0m\n\u001b[1;32m    193\u001b[0m     \u001b[0;31m# 2. fit the object\u001b[0m\u001b[0;34m\u001b[0m\u001b[0;34m\u001b[0m\u001b[0;34m\u001b[0m\u001b[0m\n\u001b[0;32m--> 194\u001b[0;31m     \u001b[0mscaler\u001b[0m\u001b[0;34m.\u001b[0m\u001b[0mfit\u001b[0m\u001b[0;34m(\u001b[0m\u001b[0mtrain\u001b[0m\u001b[0;34m)\u001b[0m\u001b[0;34m\u001b[0m\u001b[0;34m\u001b[0m\u001b[0m\n\u001b[0m\u001b[1;32m    195\u001b[0m     \u001b[0;31m# 3. use the object. Scale all columns for now\u001b[0m\u001b[0;34m\u001b[0m\u001b[0;34m\u001b[0m\u001b[0;34m\u001b[0m\u001b[0m\n\u001b[1;32m    196\u001b[0m     train_scaled = pd.DataFrame(scaler.transform(train), columns=['bedrooms', 'bathrooms', 'sq_ft', 'tax_value', 'age',\n",
      "\u001b[0;32m/usr/local/anaconda3/lib/python3.8/site-packages/sklearn/preprocessing/_data.py\u001b[0m in \u001b[0;36mfit\u001b[0;34m(self, X, y)\u001b[0m\n\u001b[1;32m    361\u001b[0m         \u001b[0;31m# Reset internal state before fitting\u001b[0m\u001b[0;34m\u001b[0m\u001b[0;34m\u001b[0m\u001b[0;34m\u001b[0m\u001b[0m\n\u001b[1;32m    362\u001b[0m         \u001b[0mself\u001b[0m\u001b[0;34m.\u001b[0m\u001b[0m_reset\u001b[0m\u001b[0;34m(\u001b[0m\u001b[0;34m)\u001b[0m\u001b[0;34m\u001b[0m\u001b[0;34m\u001b[0m\u001b[0m\n\u001b[0;32m--> 363\u001b[0;31m         \u001b[0;32mreturn\u001b[0m \u001b[0mself\u001b[0m\u001b[0;34m.\u001b[0m\u001b[0mpartial_fit\u001b[0m\u001b[0;34m(\u001b[0m\u001b[0mX\u001b[0m\u001b[0;34m,\u001b[0m \u001b[0my\u001b[0m\u001b[0;34m)\u001b[0m\u001b[0;34m\u001b[0m\u001b[0;34m\u001b[0m\u001b[0m\n\u001b[0m\u001b[1;32m    364\u001b[0m \u001b[0;34m\u001b[0m\u001b[0m\n\u001b[1;32m    365\u001b[0m     \u001b[0;32mdef\u001b[0m \u001b[0mpartial_fit\u001b[0m\u001b[0;34m(\u001b[0m\u001b[0mself\u001b[0m\u001b[0;34m,\u001b[0m \u001b[0mX\u001b[0m\u001b[0;34m,\u001b[0m \u001b[0my\u001b[0m\u001b[0;34m=\u001b[0m\u001b[0;32mNone\u001b[0m\u001b[0;34m)\u001b[0m\u001b[0;34m:\u001b[0m\u001b[0;34m\u001b[0m\u001b[0;34m\u001b[0m\u001b[0m\n",
      "\u001b[0;32m/usr/local/anaconda3/lib/python3.8/site-packages/sklearn/preprocessing/_data.py\u001b[0m in \u001b[0;36mpartial_fit\u001b[0;34m(self, X, y)\u001b[0m\n\u001b[1;32m    394\u001b[0m \u001b[0;34m\u001b[0m\u001b[0m\n\u001b[1;32m    395\u001b[0m         \u001b[0mfirst_pass\u001b[0m \u001b[0;34m=\u001b[0m \u001b[0;32mnot\u001b[0m \u001b[0mhasattr\u001b[0m\u001b[0;34m(\u001b[0m\u001b[0mself\u001b[0m\u001b[0;34m,\u001b[0m \u001b[0;34m'n_samples_seen_'\u001b[0m\u001b[0;34m)\u001b[0m\u001b[0;34m\u001b[0m\u001b[0;34m\u001b[0m\u001b[0m\n\u001b[0;32m--> 396\u001b[0;31m         X = self._validate_data(X, reset=first_pass,\n\u001b[0m\u001b[1;32m    397\u001b[0m                                 \u001b[0mestimator\u001b[0m\u001b[0;34m=\u001b[0m\u001b[0mself\u001b[0m\u001b[0;34m,\u001b[0m \u001b[0mdtype\u001b[0m\u001b[0;34m=\u001b[0m\u001b[0mFLOAT_DTYPES\u001b[0m\u001b[0;34m,\u001b[0m\u001b[0;34m\u001b[0m\u001b[0;34m\u001b[0m\u001b[0m\n\u001b[1;32m    398\u001b[0m                                 force_all_finite=\"allow-nan\")\n",
      "\u001b[0;32m/usr/local/anaconda3/lib/python3.8/site-packages/sklearn/base.py\u001b[0m in \u001b[0;36m_validate_data\u001b[0;34m(self, X, y, reset, validate_separately, **check_params)\u001b[0m\n\u001b[1;32m    419\u001b[0m             \u001b[0mout\u001b[0m \u001b[0;34m=\u001b[0m \u001b[0mX\u001b[0m\u001b[0;34m\u001b[0m\u001b[0;34m\u001b[0m\u001b[0m\n\u001b[1;32m    420\u001b[0m         \u001b[0;32melif\u001b[0m \u001b[0misinstance\u001b[0m\u001b[0;34m(\u001b[0m\u001b[0my\u001b[0m\u001b[0;34m,\u001b[0m \u001b[0mstr\u001b[0m\u001b[0;34m)\u001b[0m \u001b[0;32mand\u001b[0m \u001b[0my\u001b[0m \u001b[0;34m==\u001b[0m \u001b[0;34m'no_validation'\u001b[0m\u001b[0;34m:\u001b[0m\u001b[0;34m\u001b[0m\u001b[0;34m\u001b[0m\u001b[0m\n\u001b[0;32m--> 421\u001b[0;31m             \u001b[0mX\u001b[0m \u001b[0;34m=\u001b[0m \u001b[0mcheck_array\u001b[0m\u001b[0;34m(\u001b[0m\u001b[0mX\u001b[0m\u001b[0;34m,\u001b[0m \u001b[0;34m**\u001b[0m\u001b[0mcheck_params\u001b[0m\u001b[0;34m)\u001b[0m\u001b[0;34m\u001b[0m\u001b[0;34m\u001b[0m\u001b[0m\n\u001b[0m\u001b[1;32m    422\u001b[0m             \u001b[0mout\u001b[0m \u001b[0;34m=\u001b[0m \u001b[0mX\u001b[0m\u001b[0;34m\u001b[0m\u001b[0;34m\u001b[0m\u001b[0m\n\u001b[1;32m    423\u001b[0m         \u001b[0;32melse\u001b[0m\u001b[0;34m:\u001b[0m\u001b[0;34m\u001b[0m\u001b[0;34m\u001b[0m\u001b[0m\n",
      "\u001b[0;32m/usr/local/anaconda3/lib/python3.8/site-packages/sklearn/utils/validation.py\u001b[0m in \u001b[0;36minner_f\u001b[0;34m(*args, **kwargs)\u001b[0m\n\u001b[1;32m     61\u001b[0m             \u001b[0mextra_args\u001b[0m \u001b[0;34m=\u001b[0m \u001b[0mlen\u001b[0m\u001b[0;34m(\u001b[0m\u001b[0margs\u001b[0m\u001b[0;34m)\u001b[0m \u001b[0;34m-\u001b[0m \u001b[0mlen\u001b[0m\u001b[0;34m(\u001b[0m\u001b[0mall_args\u001b[0m\u001b[0;34m)\u001b[0m\u001b[0;34m\u001b[0m\u001b[0;34m\u001b[0m\u001b[0m\n\u001b[1;32m     62\u001b[0m             \u001b[0;32mif\u001b[0m \u001b[0mextra_args\u001b[0m \u001b[0;34m<=\u001b[0m \u001b[0;36m0\u001b[0m\u001b[0;34m:\u001b[0m\u001b[0;34m\u001b[0m\u001b[0;34m\u001b[0m\u001b[0m\n\u001b[0;32m---> 63\u001b[0;31m                 \u001b[0;32mreturn\u001b[0m \u001b[0mf\u001b[0m\u001b[0;34m(\u001b[0m\u001b[0;34m*\u001b[0m\u001b[0margs\u001b[0m\u001b[0;34m,\u001b[0m \u001b[0;34m**\u001b[0m\u001b[0mkwargs\u001b[0m\u001b[0;34m)\u001b[0m\u001b[0;34m\u001b[0m\u001b[0;34m\u001b[0m\u001b[0m\n\u001b[0m\u001b[1;32m     64\u001b[0m \u001b[0;34m\u001b[0m\u001b[0m\n\u001b[1;32m     65\u001b[0m             \u001b[0;31m# extra_args > 0\u001b[0m\u001b[0;34m\u001b[0m\u001b[0;34m\u001b[0m\u001b[0;34m\u001b[0m\u001b[0m\n",
      "\u001b[0;32m/usr/local/anaconda3/lib/python3.8/site-packages/sklearn/utils/validation.py\u001b[0m in \u001b[0;36mcheck_array\u001b[0;34m(array, accept_sparse, accept_large_sparse, dtype, order, copy, force_all_finite, ensure_2d, allow_nd, ensure_min_samples, ensure_min_features, estimator)\u001b[0m\n\u001b[1;32m    614\u001b[0m                     \u001b[0marray\u001b[0m \u001b[0;34m=\u001b[0m \u001b[0marray\u001b[0m\u001b[0;34m.\u001b[0m\u001b[0mastype\u001b[0m\u001b[0;34m(\u001b[0m\u001b[0mdtype\u001b[0m\u001b[0;34m,\u001b[0m \u001b[0mcasting\u001b[0m\u001b[0;34m=\u001b[0m\u001b[0;34m\"unsafe\"\u001b[0m\u001b[0;34m,\u001b[0m \u001b[0mcopy\u001b[0m\u001b[0;34m=\u001b[0m\u001b[0;32mFalse\u001b[0m\u001b[0;34m)\u001b[0m\u001b[0;34m\u001b[0m\u001b[0;34m\u001b[0m\u001b[0m\n\u001b[1;32m    615\u001b[0m                 \u001b[0;32melse\u001b[0m\u001b[0;34m:\u001b[0m\u001b[0;34m\u001b[0m\u001b[0;34m\u001b[0m\u001b[0m\n\u001b[0;32m--> 616\u001b[0;31m                     \u001b[0marray\u001b[0m \u001b[0;34m=\u001b[0m \u001b[0mnp\u001b[0m\u001b[0;34m.\u001b[0m\u001b[0masarray\u001b[0m\u001b[0;34m(\u001b[0m\u001b[0marray\u001b[0m\u001b[0;34m,\u001b[0m \u001b[0morder\u001b[0m\u001b[0;34m=\u001b[0m\u001b[0morder\u001b[0m\u001b[0;34m,\u001b[0m \u001b[0mdtype\u001b[0m\u001b[0;34m=\u001b[0m\u001b[0mdtype\u001b[0m\u001b[0;34m)\u001b[0m\u001b[0;34m\u001b[0m\u001b[0;34m\u001b[0m\u001b[0m\n\u001b[0m\u001b[1;32m    617\u001b[0m             \u001b[0;32mexcept\u001b[0m \u001b[0mComplexWarning\u001b[0m \u001b[0;32mas\u001b[0m \u001b[0mcomplex_warning\u001b[0m\u001b[0;34m:\u001b[0m\u001b[0;34m\u001b[0m\u001b[0;34m\u001b[0m\u001b[0m\n\u001b[1;32m    618\u001b[0m                 raise ValueError(\"Complex data not supported\\n\"\n",
      "\u001b[0;32m/usr/local/anaconda3/lib/python3.8/site-packages/numpy/core/_asarray.py\u001b[0m in \u001b[0;36masarray\u001b[0;34m(a, dtype, order, like)\u001b[0m\n\u001b[1;32m    100\u001b[0m         \u001b[0;32mreturn\u001b[0m \u001b[0m_asarray_with_like\u001b[0m\u001b[0;34m(\u001b[0m\u001b[0ma\u001b[0m\u001b[0;34m,\u001b[0m \u001b[0mdtype\u001b[0m\u001b[0;34m=\u001b[0m\u001b[0mdtype\u001b[0m\u001b[0;34m,\u001b[0m \u001b[0morder\u001b[0m\u001b[0;34m=\u001b[0m\u001b[0morder\u001b[0m\u001b[0;34m,\u001b[0m \u001b[0mlike\u001b[0m\u001b[0;34m=\u001b[0m\u001b[0mlike\u001b[0m\u001b[0;34m)\u001b[0m\u001b[0;34m\u001b[0m\u001b[0;34m\u001b[0m\u001b[0m\n\u001b[1;32m    101\u001b[0m \u001b[0;34m\u001b[0m\u001b[0m\n\u001b[0;32m--> 102\u001b[0;31m     \u001b[0;32mreturn\u001b[0m \u001b[0marray\u001b[0m\u001b[0;34m(\u001b[0m\u001b[0ma\u001b[0m\u001b[0;34m,\u001b[0m \u001b[0mdtype\u001b[0m\u001b[0;34m,\u001b[0m \u001b[0mcopy\u001b[0m\u001b[0;34m=\u001b[0m\u001b[0;32mFalse\u001b[0m\u001b[0;34m,\u001b[0m \u001b[0morder\u001b[0m\u001b[0;34m=\u001b[0m\u001b[0morder\u001b[0m\u001b[0;34m)\u001b[0m\u001b[0;34m\u001b[0m\u001b[0;34m\u001b[0m\u001b[0m\n\u001b[0m\u001b[1;32m    103\u001b[0m \u001b[0;34m\u001b[0m\u001b[0m\n\u001b[1;32m    104\u001b[0m \u001b[0;34m\u001b[0m\u001b[0m\n",
      "\u001b[0;32m/usr/local/anaconda3/lib/python3.8/site-packages/pandas/core/generic.py\u001b[0m in \u001b[0;36m__array__\u001b[0;34m(self, dtype)\u001b[0m\n\u001b[1;32m   1897\u001b[0m \u001b[0;34m\u001b[0m\u001b[0m\n\u001b[1;32m   1898\u001b[0m     \u001b[0;32mdef\u001b[0m \u001b[0m__array__\u001b[0m\u001b[0;34m(\u001b[0m\u001b[0mself\u001b[0m\u001b[0;34m,\u001b[0m \u001b[0mdtype\u001b[0m\u001b[0;34m=\u001b[0m\u001b[0;32mNone\u001b[0m\u001b[0;34m)\u001b[0m \u001b[0;34m->\u001b[0m \u001b[0mnp\u001b[0m\u001b[0;34m.\u001b[0m\u001b[0mndarray\u001b[0m\u001b[0;34m:\u001b[0m\u001b[0;34m\u001b[0m\u001b[0;34m\u001b[0m\u001b[0m\n\u001b[0;32m-> 1899\u001b[0;31m         \u001b[0;32mreturn\u001b[0m \u001b[0mnp\u001b[0m\u001b[0;34m.\u001b[0m\u001b[0masarray\u001b[0m\u001b[0;34m(\u001b[0m\u001b[0mself\u001b[0m\u001b[0;34m.\u001b[0m\u001b[0m_values\u001b[0m\u001b[0;34m,\u001b[0m \u001b[0mdtype\u001b[0m\u001b[0;34m=\u001b[0m\u001b[0mdtype\u001b[0m\u001b[0;34m)\u001b[0m\u001b[0;34m\u001b[0m\u001b[0;34m\u001b[0m\u001b[0m\n\u001b[0m\u001b[1;32m   1900\u001b[0m \u001b[0;34m\u001b[0m\u001b[0m\n\u001b[1;32m   1901\u001b[0m     def __array_wrap__(\n",
      "\u001b[0;32m/usr/local/anaconda3/lib/python3.8/site-packages/numpy/core/_asarray.py\u001b[0m in \u001b[0;36masarray\u001b[0;34m(a, dtype, order, like)\u001b[0m\n\u001b[1;32m    100\u001b[0m         \u001b[0;32mreturn\u001b[0m \u001b[0m_asarray_with_like\u001b[0m\u001b[0;34m(\u001b[0m\u001b[0ma\u001b[0m\u001b[0;34m,\u001b[0m \u001b[0mdtype\u001b[0m\u001b[0;34m=\u001b[0m\u001b[0mdtype\u001b[0m\u001b[0;34m,\u001b[0m \u001b[0morder\u001b[0m\u001b[0;34m=\u001b[0m\u001b[0morder\u001b[0m\u001b[0;34m,\u001b[0m \u001b[0mlike\u001b[0m\u001b[0;34m=\u001b[0m\u001b[0mlike\u001b[0m\u001b[0;34m)\u001b[0m\u001b[0;34m\u001b[0m\u001b[0;34m\u001b[0m\u001b[0m\n\u001b[1;32m    101\u001b[0m \u001b[0;34m\u001b[0m\u001b[0m\n\u001b[0;32m--> 102\u001b[0;31m     \u001b[0;32mreturn\u001b[0m \u001b[0marray\u001b[0m\u001b[0;34m(\u001b[0m\u001b[0ma\u001b[0m\u001b[0;34m,\u001b[0m \u001b[0mdtype\u001b[0m\u001b[0;34m,\u001b[0m \u001b[0mcopy\u001b[0m\u001b[0;34m=\u001b[0m\u001b[0;32mFalse\u001b[0m\u001b[0;34m,\u001b[0m \u001b[0morder\u001b[0m\u001b[0;34m=\u001b[0m\u001b[0morder\u001b[0m\u001b[0;34m)\u001b[0m\u001b[0;34m\u001b[0m\u001b[0;34m\u001b[0m\u001b[0m\n\u001b[0m\u001b[1;32m    103\u001b[0m \u001b[0;34m\u001b[0m\u001b[0m\n\u001b[1;32m    104\u001b[0m \u001b[0;34m\u001b[0m\u001b[0m\n",
      "\u001b[0;31mValueError\u001b[0m: could not convert string to float: 'LA'"
     ]
    }
   ],
   "source": [
    "train_scaled, validate_scaled, test_scaled, X_train_scaled, y_train_scaled, X_validate_scaled, y_validate_scaled, X_test_scaled, y_test_scaled = wrangle.scale_zillow(train,validate,test)\n",
    "train_scaled, validate_scaled, test_scaled, X_train_scaled, y_train_scaled, X_validate_scaled, y_validate_scaled, X_test_scaled, y_test_scaled"
   ]
  },
  {
   "cell_type": "markdown",
   "id": "eeb51a92",
   "metadata": {},
   "source": [
    "# DATA EXPLORATION--BIVARIATE AND MULTIVARIATE"
   ]
  },
  {
   "cell_type": "markdown",
   "id": "e46953d2",
   "metadata": {},
   "source": [
    "## I decided to rely on an unencoded version of the data set for some of my visual exploration."
   ]
  },
  {
   "cell_type": "code",
   "execution_count": null,
   "id": "e2316e46",
   "metadata": {},
   "outputs": [],
   "source": [
    "train.head(1)"
   ]
  },
  {
   "cell_type": "code",
   "execution_count": null,
   "id": "bb8c11e2",
   "metadata": {},
   "outputs": [],
   "source": [
    "sns.barplot(x=train.county, y=train.tax_value)"
   ]
  },
  {
   "cell_type": "code",
   "execution_count": null,
   "id": "2efef79a",
   "metadata": {},
   "outputs": [],
   "source": [
    "sns.barplot(x=train.bedrooms, y=train.tax_value)"
   ]
  },
  {
   "cell_type": "code",
   "execution_count": null,
   "id": "425ff70a",
   "metadata": {},
   "outputs": [],
   "source": [
    "sns.barplot(x=train.bathrooms, y=train.tax_value)"
   ]
  },
  {
   "cell_type": "markdown",
   "id": "12feb6e3",
   "metadata": {},
   "source": [
    "### There are definitely some houses with too many bathrooms."
   ]
  },
  {
   "cell_type": "code",
   "execution_count": null,
   "id": "63747cd0",
   "metadata": {},
   "outputs": [],
   "source": [
    "train.head()"
   ]
  },
  {
   "cell_type": "code",
   "execution_count": null,
   "id": "04aad729",
   "metadata": {},
   "outputs": [],
   "source": [
    "train_corr = train.corr()\n",
    "train_corr"
   ]
  },
  {
   "cell_type": "code",
   "execution_count": null,
   "id": "6f821575",
   "metadata": {},
   "outputs": [],
   "source": [
    "sns.heatmap(train_corr, cmap='Purples', annot=True, linewidth=0.5, mask= np.triu(train_corr))"
   ]
  },
  {
   "cell_type": "markdown",
   "id": "5fad7c9a",
   "metadata": {},
   "source": [
    "### I'd like to show the relationship betwwn sq_ft and bathrooms, and maybe create a feature called bathrooms/sq_ft or something like that"
   ]
  },
  {
   "cell_type": "code",
   "execution_count": null,
   "id": "1ebe88a4",
   "metadata": {},
   "outputs": [],
   "source": [
    "sns.boxplot(x='bathrooms', y='sq_ft', data=train)"
   ]
  },
  {
   "cell_type": "code",
   "execution_count": null,
   "id": "c7ff2215",
   "metadata": {},
   "outputs": [],
   "source": [
    "train.bathrooms.value_counts()"
   ]
  },
  {
   "cell_type": "code",
   "execution_count": null,
   "id": "8ebce75a",
   "metadata": {},
   "outputs": [],
   "source": [
    "baths_2 = train[train.bathrooms == 2.00].sq_ft\n",
    "baths_1 = train[train.bathrooms == 1.00].sq_ft\n",
    "baths_3 = train[train.bathrooms == 3.00].sq_ft\n",
    "baths_2_5 = train[train.bathrooms == 2.50].sq_ft\n",
    "baths_4 = train[train.bathrooms == 4.00].sq_ft\n",
    "baths_1_5 = train[train.bathrooms == 1.50].sq_ft\n",
    "baths_3_5 = train[train.bathrooms == 3.50].sq_ft"
   ]
  },
  {
   "cell_type": "code",
   "execution_count": null,
   "id": "0c15a0c7",
   "metadata": {},
   "outputs": [],
   "source": [
    "baths_list = [baths_2, baths_1, baths_3, baths_2_5,baths_4,baths_1_5,baths_3_5]#, 'baths_3', 'baths_2_5','baths_4','baths_1_5','baths_3_5','baths_1_75']\n",
    "\n",
    "for bath in baths_list:\n",
    "    plt.figure\n",
    "    bath.hist();"
   ]
  },
  {
   "cell_type": "code",
   "execution_count": null,
   "id": "d6b66170",
   "metadata": {},
   "outputs": [],
   "source": [
    "# check variances\n",
    "for bath in baths_list:\n",
    "    print(bath.var())\n",
    "    \n",
    "# they differ"
   ]
  },
  {
   "cell_type": "markdown",
   "id": "95a33491",
   "metadata": {},
   "source": [
    "Set Hypothesis\n",
    "- 𝐻0 : Population means of sq_ft (by bathrooms) counts are equal\n",
    "- 𝐻𝑎 : Population means of sq_ft (by bathrooms) are not all equal"
   ]
  },
  {
   "cell_type": "code",
   "execution_count": null,
   "id": "93237558",
   "metadata": {},
   "outputs": [],
   "source": [
    "f, p = stats.f_oneway(baths_2, baths_1, baths_3, baths_2_5,baths_4,baths_1_5,baths_3_5)\n",
    "f, p"
   ]
  },
  {
   "cell_type": "code",
   "execution_count": null,
   "id": "abbb2199",
   "metadata": {},
   "outputs": [],
   "source": [
    "alpha = 0.05\n",
    "if p < alpha:\n",
    "    print(\"We reject $H_{0}$\")\n",
    "else:\n",
    "    print(\"We fail to reject $H_{0}$\")"
   ]
  },
  {
   "cell_type": "code",
   "execution_count": null,
   "id": "32f6d74f",
   "metadata": {},
   "outputs": [],
   "source": []
  },
  {
   "cell_type": "code",
   "execution_count": null,
   "id": "68b18a65",
   "metadata": {
    "scrolled": true
   },
   "outputs": [],
   "source": [
    "train.head()"
   ]
  },
  {
   "cell_type": "code",
   "execution_count": null,
   "id": "34860639",
   "metadata": {},
   "outputs": [],
   "source": [
    "train.columns"
   ]
  },
  {
   "cell_type": "code",
   "execution_count": null,
   "id": "d1204ca0",
   "metadata": {},
   "outputs": [],
   "source": [
    "sns.pairplot(data=train,corner=True, hue='county')"
   ]
  },
  {
   "cell_type": "code",
   "execution_count": null,
   "id": "c4e7832b",
   "metadata": {},
   "outputs": [],
   "source": [
    "# I can really pop that line color if I want.\n",
    "\n",
    "sns.lmplot(x='age', y=\"sq_ft\", data=train, line_kws={'color': 'red'}, scatter_kws={'alpha':.3})\n",
    "plt.show()"
   ]
  },
  {
   "cell_type": "markdown",
   "id": "4bf34e19",
   "metadata": {},
   "source": [
    "### Newer homes are larger"
   ]
  },
  {
   "cell_type": "code",
   "execution_count": null,
   "id": "48526c52",
   "metadata": {},
   "outputs": [],
   "source": [
    "train.head()"
   ]
  },
  {
   "cell_type": "code",
   "execution_count": null,
   "id": "482c7609",
   "metadata": {
    "scrolled": false
   },
   "outputs": [],
   "source": [
    "# This cell will take a long time to run but provide lots of good vizes\n",
    "# Run it with plenty of time\n",
    "vars = ['sq_ft','tax_value', 'age','sq_ft_per_bathroom']\n",
    "vars2 = ['sq_ft','tax_value', 'age','sq_ft_per_bathroom']\n",
    "\n",
    "for var in vars:\n",
    "    for var2 in vars2:\n",
    "        plt.figure\n",
    "        sns.lmplot(x=var, y=var2, data=train, scatter_kws={'alpha':.2},hue='county')#line_kws={'color': 'red'},"
   ]
  },
  {
   "cell_type": "markdown",
   "id": "247d76be",
   "metadata": {},
   "source": [
    "### Takeaways:\n",
    "\n",
    "- Age doesn't affect tax_value so much in LA county--next step: different model for LA county?\n",
    "\n",
    "- Sq_ft definitely affects tax_value\n",
    "\n",
    "- Sq_ft_per_bathroom make a much smaller difference re: tax value in LA county; \n",
    "\n",
    "- Sq_ft_per_bathroom has a much bigger relationship to age in LA county (as age goes up, so does sfpb).  Are these historic homes that are valued more highly? --> note that older homes do not depreciate as much here\n",
    "\n"
   ]
  },
  {
   "cell_type": "markdown",
   "id": "b2de6c01",
   "metadata": {},
   "source": [
    "## Research question number 1: \n",
    "\n",
    "Are bigger houses valued higher?"
   ]
  },
  {
   "cell_type": "code",
   "execution_count": null,
   "id": "ba5a5d1e",
   "metadata": {},
   "outputs": [],
   "source": [
    "plt.title('There seems to be a positive correlation between square feet and tax_value')\n",
    "sns.lineplot(x=train.sq_ft, y=train.tax_value)#,markers=True)\n"
   ]
  },
  {
   "cell_type": "markdown",
   "id": "d87f7316",
   "metadata": {},
   "source": [
    "Hypothesis testing: \n",
    "\n",
    "    H_o: Square feet and tax_value are not related\n",
    "    H_a: Square feet and tax_value are related\n",
    "    \n",
    "    The null hypothesis is rejected by the stats test"
   ]
  },
  {
   "cell_type": "code",
   "execution_count": null,
   "id": "12d6e4ce",
   "metadata": {},
   "outputs": [],
   "source": [
    "alpha = 0.05\n",
    "\n",
    "corr, p = stats.pearsonr(train.sq_ft, train.tax_value)\n",
    "\n",
    "if p < alpha:\n",
    "    print(\"We reject the null hypothesis\")\n",
    "else:\n",
    "    print(\"We fail to reject the null hypothesis\")\n",
    "    \n",
    "corr, p"
   ]
  },
  {
   "cell_type": "markdown",
   "id": "512b3bf8",
   "metadata": {},
   "source": [
    "### There is a moderate correlation between the variables."
   ]
  },
  {
   "cell_type": "markdown",
   "id": "f8cc1b67",
   "metadata": {},
   "source": [
    "## Question number two: is there a relationship between the sq_ft_per_bathroom and value?"
   ]
  },
  {
   "cell_type": "code",
   "execution_count": null,
   "id": "a457dfeb",
   "metadata": {},
   "outputs": [],
   "source": [
    "sns.lmplot(x='sq_ft_per_bathroom',y='tax_value',data=train, hue= 'county',scatter_kws={'alpha':.15})"
   ]
  },
  {
   "cell_type": "markdown",
   "id": "956ed7ca",
   "metadata": {},
   "source": [
    "## Big takeaway: sfpb has very little impact on tax value in LA county, but more in the other two counties.  Strong evidence that two models could be handy"
   ]
  },
  {
   "cell_type": "markdown",
   "id": "f925a0da",
   "metadata": {},
   "source": [
    "### Let's do an 1 tailed t test here to be sure:"
   ]
  },
  {
   "cell_type": "markdown",
   "id": "1c718e4c",
   "metadata": {},
   "source": [
    "Verify Assumptions\n",
    "Independent Samples. YES! no observations in the LA sample exist in the Orange or Ventura.\n",
    "Normal Distribution: Basically normal, and huge sample\n",
    "Equal Variances (the scipy methods we will use has an argument to handle when variances aren't equal)."
   ]
  },
  {
   "cell_type": "code",
   "execution_count": null,
   "id": "e1318e7c",
   "metadata": {},
   "outputs": [],
   "source": [
    "train.sample(1)"
   ]
  },
  {
   "cell_type": "code",
   "execution_count": null,
   "id": "33210040",
   "metadata": {},
   "outputs": [],
   "source": [
    "LA_sample = train[train.county == 'LA']\n",
    "# Orange_sample = train[[train.county == 'Orange'].tax_value\n",
    "# Ventura_sample = train[train.county == 'Ventura'].tax_value\n",
    "Other_counties_sample = train[train.county != 'LA']"
   ]
  },
  {
   "cell_type": "code",
   "execution_count": null,
   "id": "d991b949",
   "metadata": {},
   "outputs": [],
   "source": [
    "LA_sample.head()"
   ]
  },
  {
   "cell_type": "code",
   "execution_count": null,
   "id": "e98c0bce",
   "metadata": {},
   "outputs": [],
   "source": [
    "plt.title(\"The counties' tax values are normally distributed\")\n",
    "plt.xlabel(\"County Bins\")\n",
    "plt.ylabel(\"Tax Value\")\n",
    "LA_sample.sq_ft_per_bathroom.hist()"
   ]
  },
  {
   "cell_type": "code",
   "execution_count": null,
   "id": "22eec728",
   "metadata": {},
   "outputs": [],
   "source": [
    "Other_counties_sample.sq_ft_per_bathroom.hist()"
   ]
  },
  {
   "cell_type": "code",
   "execution_count": null,
   "id": "6fbdfb80",
   "metadata": {},
   "outputs": [],
   "source": [
    "# check variances\n",
    "LA_sample.sq_ft_per_bathroom.var(),Other_counties_sample.sq_ft_per_bathroom.var()"
   ]
  },
  {
   "cell_type": "markdown",
   "id": "78c9d574",
   "metadata": {},
   "source": [
    "### Differing variances"
   ]
  },
  {
   "cell_type": "markdown",
   "id": "ede01749",
   "metadata": {},
   "source": [
    "Set Hypothesis\n",
    "- 𝐻0 : In LA county, sfpb does not impact tax value\n",
    "- 𝐻𝑎 : In LA county, sfpb does impact tax value"
   ]
  },
  {
   "cell_type": "code",
   "execution_count": null,
   "id": "7415328e",
   "metadata": {},
   "outputs": [],
   "source": [
    "corr_LA, p = stats.pearsonr(LA_sample.sq_ft_per_bathroom,LA_sample.tax_value)\n",
    "corr_LA, p"
   ]
  },
  {
   "cell_type": "code",
   "execution_count": null,
   "id": "d78638ee",
   "metadata": {},
   "outputs": [],
   "source": [
    "corr_Others, p = stats.pearsonr(Other_counties_sample.sq_ft_per_bathroom,Other_counties_sample.tax_value)\n",
    "corr_Others, p"
   ]
  },
  {
   "cell_type": "markdown",
   "id": "4b395116",
   "metadata": {},
   "source": [
    "### Takeaway: there is a stronger correlation between sfpb in Other counties than in LA"
   ]
  },
  {
   "cell_type": "markdown",
   "id": "0e319d6b",
   "metadata": {},
   "source": [
    "# Feature engineering"
   ]
  },
  {
   "cell_type": "code",
   "execution_count": null,
   "id": "30b0f949",
   "metadata": {},
   "outputs": [],
   "source": [
    "# The data needs to be scaled:\n",
    "\n",
    "train_scaled, validate_scaled, test_scaled, X_train_scaled, y_train_scaled, X_validate_scaled, y_validate_scaled, X_test_scaled, y_test_scaled = wrangle.scale_zillow(train,validate,test)"
   ]
  },
  {
   "cell_type": "code",
   "execution_count": null,
   "id": "254b0a9b",
   "metadata": {},
   "outputs": [],
   "source": [
    "# K Best model here:\n",
    "\n",
    "from sklearn.feature_selection import SelectKBest, f_regression\n",
    "\n",
    "# parameters: f_regression stats test, give me 8 features\n",
    "f_selector = SelectKBest(f_regression, k=2)\n",
    "\n",
    "# find the top 8 X's correlated with y\n",
    "f_selector.fit(X_train_scaled, y_train)\n",
    "\n",
    "X_reduced = f_selector.transform(X_train_scaled)\n",
    "\n",
    "print(X_train_scaled.shape)\n",
    "print(X_reduced.shape)"
   ]
  },
  {
   "cell_type": "code",
   "execution_count": null,
   "id": "091bcbda",
   "metadata": {},
   "outputs": [],
   "source": []
  }
 ],
 "metadata": {
  "kernelspec": {
   "display_name": "Python 3",
   "language": "python",
   "name": "python3"
  },
  "language_info": {
   "codemirror_mode": {
    "name": "ipython",
    "version": 3
   },
   "file_extension": ".py",
   "mimetype": "text/x-python",
   "name": "python",
   "nbconvert_exporter": "python",
   "pygments_lexer": "ipython3",
   "version": "3.8.8"
  }
 },
 "nbformat": 4,
 "nbformat_minor": 5
}
