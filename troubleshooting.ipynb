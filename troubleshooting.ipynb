{
 "cells": [
  {
   "cell_type": "code",
   "execution_count": 1,
   "id": "bbb38acb",
   "metadata": {},
   "outputs": [],
   "source": [
    "import matplotlib.pyplot as plt\n",
    "import numpy as np\n",
    "import pandas as pd\n",
    "from pydataset import data\n",
    "import statistics\n",
    "import seaborn as sns\n",
    "import env\n",
    "from sklearn.model_selection import train_test_split\n",
    "from sklearn.impute import SimpleImputer\n",
    "import scipy\n",
    "from scipy import stats\n",
    "from sklearn.linear_model import LinearRegression, LassoLars, TweedieRegressor\n",
    "from sklearn.preprocessing import PolynomialFeatures\n",
    "from sklearn.metrics import mean_squared_error\n",
    "from sklearn.tree import DecisionTreeClassifier\n",
    "from sklearn.tree import export_graphviz\n",
    "from sklearn.metrics import classification_report\n",
    "from sklearn.metrics import confusion_matrix\n",
    "from sklearn.ensemble import RandomForestClassifier\n",
    "from sklearn.neighbors import KNeighborsClassifier\n",
    "from sklearn.linear_model import LogisticRegression\n",
    "import sklearn.linear_model\n",
    "import sklearn.preprocessing\n",
    "import warnings\n",
    "warnings.filterwarnings(\"ignore\")\n",
    "# importing my personal wrangle module\n",
    "import wrangle\n",
    "import model\n",
    "import viz"
   ]
  },
  {
   "cell_type": "code",
   "execution_count": 2,
   "id": "1d7e340b",
   "metadata": {},
   "outputs": [],
   "source": [
    "# Acquiring the data using the wrangle\n",
    "zillow_sql_query = wrangle.get_zillow_data()\n",
    "# I am working with a copy of the SQL query to be able to access it faster\n",
    "zillow = zillow_sql_query.copy()"
   ]
  },
  {
   "cell_type": "code",
   "execution_count": 3,
   "id": "fdc551bb",
   "metadata": {},
   "outputs": [],
   "source": [
    "zillow = wrangle.clean_and_prep_data(zillow)"
   ]
  },
  {
   "cell_type": "code",
   "execution_count": 4,
   "id": "b3722a47",
   "metadata": {},
   "outputs": [],
   "source": [
    "encoded = wrangle.encode_zillow(zillow)"
   ]
  },
  {
   "cell_type": "code",
   "execution_count": 5,
   "id": "7753e75e",
   "metadata": {},
   "outputs": [],
   "source": [
    "train, validate, test,X_train, y_train, X_validate, y_validate, X_test, y_test = wrangle.split_zillow(encoded)"
   ]
  },
  {
   "cell_type": "code",
   "execution_count": 6,
   "id": "00f49ef8",
   "metadata": {},
   "outputs": [],
   "source": [
    "train_scaled, X_train_scaled, y_train_scaled, \\\n",
    "validate_scaled, X_validate_scaled, y_validate_scaled, \\\n",
    "test_scaled, X_test_scaled, y_test_scaled = wrangle.scale_zillow(train, validate, test)"
   ]
  },
  {
   "cell_type": "code",
   "execution_count": 7,
   "id": "8226439b",
   "metadata": {},
   "outputs": [],
   "source": [
    "X_train_kbest, X_validate_kbest, X_test_kbest, X_train_rfe, X_validate_rfe, X_test_rfe \\\n",
    "= model.create_data_for_models(X_train_scaled, X_validate_scaled, X_test_scaled)"
   ]
  },
  {
   "cell_type": "code",
   "execution_count": 8,
   "id": "4a5e4ed3",
   "metadata": {},
   "outputs": [
    {
     "data": {
      "text/plain": [
       "2.0    11783\n",
       "3.0     5084\n",
       "1.0     4956\n",
       "2.5     2061\n",
       "4.0      529\n",
       "1.5      464\n",
       "3.5      246\n",
       "Name: bathrooms, dtype: int64"
      ]
     },
     "execution_count": 8,
     "metadata": {},
     "output_type": "execute_result"
    }
   ],
   "source": [
    "train.bathrooms.value_counts()"
   ]
  },
  {
   "cell_type": "code",
   "execution_count": 9,
   "id": "851b7e2d",
   "metadata": {},
   "outputs": [
    {
     "data": {
      "text/html": [
       "<div>\n",
       "<style scoped>\n",
       "    .dataframe tbody tr th:only-of-type {\n",
       "        vertical-align: middle;\n",
       "    }\n",
       "\n",
       "    .dataframe tbody tr th {\n",
       "        vertical-align: top;\n",
       "    }\n",
       "\n",
       "    .dataframe thead th {\n",
       "        text-align: right;\n",
       "    }\n",
       "</style>\n",
       "<table border=\"1\" class=\"dataframe\">\n",
       "  <thead>\n",
       "    <tr style=\"text-align: right;\">\n",
       "      <th></th>\n",
       "      <th>bedrooms</th>\n",
       "      <th>bathrooms</th>\n",
       "      <th>sq_ft</th>\n",
       "      <th>tax_value</th>\n",
       "      <th>county</th>\n",
       "      <th>age</th>\n",
       "      <th>sq_ft_per_bathroom</th>\n",
       "      <th>LA</th>\n",
       "      <th>Orange</th>\n",
       "      <th>Ventura</th>\n",
       "    </tr>\n",
       "  </thead>\n",
       "  <tbody>\n",
       "    <tr>\n",
       "      <th>44364</th>\n",
       "      <td>3.0</td>\n",
       "      <td>2.0</td>\n",
       "      <td>2525.0</td>\n",
       "      <td>347114.0</td>\n",
       "      <td>LA</td>\n",
       "      <td>84</td>\n",
       "      <td>1262.500000</td>\n",
       "      <td>1</td>\n",
       "      <td>0</td>\n",
       "      <td>0</td>\n",
       "    </tr>\n",
       "    <tr>\n",
       "      <th>46624</th>\n",
       "      <td>4.0</td>\n",
       "      <td>2.0</td>\n",
       "      <td>1337.0</td>\n",
       "      <td>500000.0</td>\n",
       "      <td>Orange</td>\n",
       "      <td>67</td>\n",
       "      <td>668.500000</td>\n",
       "      <td>0</td>\n",
       "      <td>1</td>\n",
       "      <td>0</td>\n",
       "    </tr>\n",
       "    <tr>\n",
       "      <th>11864</th>\n",
       "      <td>3.0</td>\n",
       "      <td>4.0</td>\n",
       "      <td>2881.0</td>\n",
       "      <td>757360.0</td>\n",
       "      <td>LA</td>\n",
       "      <td>69</td>\n",
       "      <td>720.250000</td>\n",
       "      <td>1</td>\n",
       "      <td>0</td>\n",
       "      <td>0</td>\n",
       "    </tr>\n",
       "    <tr>\n",
       "      <th>15449</th>\n",
       "      <td>2.0</td>\n",
       "      <td>1.0</td>\n",
       "      <td>1397.0</td>\n",
       "      <td>520117.0</td>\n",
       "      <td>Orange</td>\n",
       "      <td>74</td>\n",
       "      <td>1397.000000</td>\n",
       "      <td>0</td>\n",
       "      <td>1</td>\n",
       "      <td>0</td>\n",
       "    </tr>\n",
       "    <tr>\n",
       "      <th>25692</th>\n",
       "      <td>2.0</td>\n",
       "      <td>1.0</td>\n",
       "      <td>1103.0</td>\n",
       "      <td>137886.0</td>\n",
       "      <td>LA</td>\n",
       "      <td>116</td>\n",
       "      <td>1103.000000</td>\n",
       "      <td>1</td>\n",
       "      <td>0</td>\n",
       "      <td>0</td>\n",
       "    </tr>\n",
       "    <tr>\n",
       "      <th>...</th>\n",
       "      <td>...</td>\n",
       "      <td>...</td>\n",
       "      <td>...</td>\n",
       "      <td>...</td>\n",
       "      <td>...</td>\n",
       "      <td>...</td>\n",
       "      <td>...</td>\n",
       "      <td>...</td>\n",
       "      <td>...</td>\n",
       "      <td>...</td>\n",
       "    </tr>\n",
       "    <tr>\n",
       "      <th>17012</th>\n",
       "      <td>2.0</td>\n",
       "      <td>2.0</td>\n",
       "      <td>1424.0</td>\n",
       "      <td>529764.0</td>\n",
       "      <td>LA</td>\n",
       "      <td>67</td>\n",
       "      <td>712.000000</td>\n",
       "      <td>1</td>\n",
       "      <td>0</td>\n",
       "      <td>0</td>\n",
       "    </tr>\n",
       "    <tr>\n",
       "      <th>51716</th>\n",
       "      <td>4.0</td>\n",
       "      <td>3.0</td>\n",
       "      <td>2133.0</td>\n",
       "      <td>95220.0</td>\n",
       "      <td>LA</td>\n",
       "      <td>67</td>\n",
       "      <td>711.000000</td>\n",
       "      <td>1</td>\n",
       "      <td>0</td>\n",
       "      <td>0</td>\n",
       "    </tr>\n",
       "    <tr>\n",
       "      <th>27316</th>\n",
       "      <td>3.0</td>\n",
       "      <td>2.0</td>\n",
       "      <td>2442.0</td>\n",
       "      <td>159427.0</td>\n",
       "      <td>LA</td>\n",
       "      <td>69</td>\n",
       "      <td>1221.000000</td>\n",
       "      <td>1</td>\n",
       "      <td>0</td>\n",
       "      <td>0</td>\n",
       "    </tr>\n",
       "    <tr>\n",
       "      <th>46126</th>\n",
       "      <td>3.0</td>\n",
       "      <td>2.0</td>\n",
       "      <td>1080.0</td>\n",
       "      <td>147044.0</td>\n",
       "      <td>LA</td>\n",
       "      <td>30</td>\n",
       "      <td>540.000000</td>\n",
       "      <td>1</td>\n",
       "      <td>0</td>\n",
       "      <td>0</td>\n",
       "    </tr>\n",
       "    <tr>\n",
       "      <th>30304</th>\n",
       "      <td>4.0</td>\n",
       "      <td>3.0</td>\n",
       "      <td>1712.0</td>\n",
       "      <td>614000.0</td>\n",
       "      <td>Orange</td>\n",
       "      <td>47</td>\n",
       "      <td>570.666667</td>\n",
       "      <td>0</td>\n",
       "      <td>1</td>\n",
       "      <td>0</td>\n",
       "    </tr>\n",
       "  </tbody>\n",
       "</table>\n",
       "<p>25123 rows × 10 columns</p>\n",
       "</div>"
      ],
      "text/plain": [
       "       bedrooms  bathrooms   sq_ft  tax_value  county  age  \\\n",
       "44364       3.0        2.0  2525.0   347114.0      LA   84   \n",
       "46624       4.0        2.0  1337.0   500000.0  Orange   67   \n",
       "11864       3.0        4.0  2881.0   757360.0      LA   69   \n",
       "15449       2.0        1.0  1397.0   520117.0  Orange   74   \n",
       "25692       2.0        1.0  1103.0   137886.0      LA  116   \n",
       "...         ...        ...     ...        ...     ...  ...   \n",
       "17012       2.0        2.0  1424.0   529764.0      LA   67   \n",
       "51716       4.0        3.0  2133.0    95220.0      LA   67   \n",
       "27316       3.0        2.0  2442.0   159427.0      LA   69   \n",
       "46126       3.0        2.0  1080.0   147044.0      LA   30   \n",
       "30304       4.0        3.0  1712.0   614000.0  Orange   47   \n",
       "\n",
       "       sq_ft_per_bathroom  LA  Orange  Ventura  \n",
       "44364         1262.500000   1       0        0  \n",
       "46624          668.500000   0       1        0  \n",
       "11864          720.250000   1       0        0  \n",
       "15449         1397.000000   0       1        0  \n",
       "25692         1103.000000   1       0        0  \n",
       "...                   ...  ..     ...      ...  \n",
       "17012          712.000000   1       0        0  \n",
       "51716          711.000000   1       0        0  \n",
       "27316         1221.000000   1       0        0  \n",
       "46126          540.000000   1       0        0  \n",
       "30304          570.666667   0       1        0  \n",
       "\n",
       "[25123 rows x 10 columns]"
      ]
     },
     "execution_count": 9,
     "metadata": {},
     "output_type": "execute_result"
    }
   ],
   "source": [
    "copy = train.copy()\n",
    "copy"
   ]
  },
  {
   "cell_type": "code",
   "execution_count": 10,
   "id": "d3417440",
   "metadata": {},
   "outputs": [
    {
     "data": {
      "text/plain": [
       "2.0    11783\n",
       "3.0     5084\n",
       "1.0     4956\n",
       "2.5     2061\n",
       "4.0      529\n",
       "1.5      464\n",
       "3.5      246\n",
       "Name: bathrooms, dtype: int64"
      ]
     },
     "execution_count": 10,
     "metadata": {},
     "output_type": "execute_result"
    }
   ],
   "source": [
    "copy.bathrooms.value_counts()"
   ]
  },
  {
   "cell_type": "code",
   "execution_count": 11,
   "id": "19883866",
   "metadata": {},
   "outputs": [],
   "source": [
    "# copy['has_half_bath'] = copy[copy.bathrooms == '1.5']"
   ]
  },
  {
   "cell_type": "code",
   "execution_count": 12,
   "id": "3d7eb095",
   "metadata": {},
   "outputs": [],
   "source": [
    "# 1. Predict tax_value_pred_mean\n",
    "# I create here new columns in the y_ data sets too hold the baseline value I am working with.\n",
    "tax_value_pred_mean = y_train_scaled.tax_value.mean()\n",
    "y_train_scaled['tax_value_pred_mean'] = round(tax_value_pred_mean, 2)\n",
    "y_validate_scaled['tax_value_pred_mean'] = round(tax_value_pred_mean,2)\n",
    "y_test_scaled['tax_value_pred_mean'] = round(tax_value_pred_mean,2)"
   ]
  },
  {
   "cell_type": "code",
   "execution_count": 13,
   "id": "08ee287d",
   "metadata": {},
   "outputs": [
    {
     "name": "stdout",
     "output_type": "stream",
     "text": [
      "RMSE using Mean\n",
      "Train/In-Sample:  0.21 \n",
      "Validate/Out-of-Sample:  0.21\n"
     ]
    }
   ],
   "source": [
    "# 2. RMSE of tax_value_pred_mean\n",
    "# Here, I calculate the Root Mean Squared Error of the baseline and print it\n",
    "from sklearn.metrics import mean_squared_error\n",
    "\n",
    "rmse_train = mean_squared_error(y_train_scaled.tax_value,\n",
    "                                y_train_scaled.tax_value_pred_mean) ** .5\n",
    "rmse_validate = mean_squared_error(y_validate_scaled.tax_value, y_validate_scaled.tax_value_pred_mean) ** (0.5)\n",
    "\n",
    "print(\"RMSE using Mean\\nTrain/In-Sample: \", round(rmse_train, 2), \n",
    "      \"\\nValidate/Out-of-Sample: \", round(rmse_validate, 2))"
   ]
  },
  {
   "cell_type": "code",
   "execution_count": 14,
   "id": "2fd2f207",
   "metadata": {},
   "outputs": [
    {
     "data": {
      "text/html": [
       "<div>\n",
       "<style scoped>\n",
       "    .dataframe tbody tr th:only-of-type {\n",
       "        vertical-align: middle;\n",
       "    }\n",
       "\n",
       "    .dataframe tbody tr th {\n",
       "        vertical-align: top;\n",
       "    }\n",
       "\n",
       "    .dataframe thead th {\n",
       "        text-align: right;\n",
       "    }\n",
       "</style>\n",
       "<table border=\"1\" class=\"dataframe\">\n",
       "  <thead>\n",
       "    <tr style=\"text-align: right;\">\n",
       "      <th></th>\n",
       "      <th>model</th>\n",
       "      <th>RMSE_train</th>\n",
       "      <th>RMSE_validate</th>\n",
       "    </tr>\n",
       "  </thead>\n",
       "  <tbody>\n",
       "    <tr>\n",
       "      <th>0</th>\n",
       "      <td>mean_baseline</td>\n",
       "      <td>0.208883</td>\n",
       "      <td>0.208898</td>\n",
       "    </tr>\n",
       "  </tbody>\n",
       "</table>\n",
       "</div>"
      ],
      "text/plain": [
       "           model  RMSE_train  RMSE_validate\n",
       "0  mean_baseline    0.208883       0.208898"
      ]
     },
     "execution_count": 14,
     "metadata": {},
     "output_type": "execute_result"
    }
   ],
   "source": [
    "# Here, I create a DataFrame to insert the evaluation metrics of the different models; this datafram will be \n",
    "# taken in by the modeling function below and expanded on.\n",
    "metric_df = pd.DataFrame(data=[\n",
    "            {\n",
    "                'model': 'mean_baseline', \n",
    "                'RMSE_train': rmse_train,\n",
    "                'RMSE_validate': rmse_validate\n",
    "                }\n",
    "            ])\n",
    "metric_df"
   ]
  },
  {
   "cell_type": "code",
   "execution_count": 15,
   "id": "a4105ba5",
   "metadata": {},
   "outputs": [],
   "source": [
    "metric_df = model.run_all_models_on_all_data(X_train_kbest, y_train_scaled, X_validate_kbest, y_validate_scaled, X_train_rfe, X_validate_rfe, X_test_kbest, X_test_rfe, metric_df)"
   ]
  },
  {
   "cell_type": "code",
   "execution_count": 16,
   "id": "382d7c66",
   "metadata": {},
   "outputs": [
    {
     "data": {
      "text/html": [
       "<div>\n",
       "<style scoped>\n",
       "    .dataframe tbody tr th:only-of-type {\n",
       "        vertical-align: middle;\n",
       "    }\n",
       "\n",
       "    .dataframe tbody tr th {\n",
       "        vertical-align: top;\n",
       "    }\n",
       "\n",
       "    .dataframe thead th {\n",
       "        text-align: right;\n",
       "    }\n",
       "</style>\n",
       "<table border=\"1\" class=\"dataframe\">\n",
       "  <thead>\n",
       "    <tr style=\"text-align: right;\">\n",
       "      <th></th>\n",
       "      <th>model</th>\n",
       "      <th>RMSE_train</th>\n",
       "      <th>RMSE_validate</th>\n",
       "    </tr>\n",
       "  </thead>\n",
       "  <tbody>\n",
       "    <tr>\n",
       "      <th>0</th>\n",
       "      <td>mean_baseline</td>\n",
       "      <td>0.208883</td>\n",
       "      <td>0.208898</td>\n",
       "    </tr>\n",
       "    <tr>\n",
       "      <th>1</th>\n",
       "      <td>OLS Regressor RFE</td>\n",
       "      <td>0.186380</td>\n",
       "      <td>0.185511</td>\n",
       "    </tr>\n",
       "    <tr>\n",
       "      <th>2</th>\n",
       "      <td>OLS Regressor KBEST</td>\n",
       "      <td>0.187970</td>\n",
       "      <td>0.187550</td>\n",
       "    </tr>\n",
       "    <tr>\n",
       "      <th>3</th>\n",
       "      <td>Lasso_alpha1_KBEST</td>\n",
       "      <td>0.208851</td>\n",
       "      <td>0.208888</td>\n",
       "    </tr>\n",
       "    <tr>\n",
       "      <th>4</th>\n",
       "      <td>Lasso_alpha1_RFE</td>\n",
       "      <td>0.208851</td>\n",
       "      <td>0.208888</td>\n",
       "    </tr>\n",
       "    <tr>\n",
       "      <th>5</th>\n",
       "      <td>glm_compound_kbest</td>\n",
       "      <td>0.187992</td>\n",
       "      <td>0.187311</td>\n",
       "    </tr>\n",
       "    <tr>\n",
       "      <th>6</th>\n",
       "      <td>glm_compound_rfe</td>\n",
       "      <td>0.186132</td>\n",
       "      <td>0.185047</td>\n",
       "    </tr>\n",
       "    <tr>\n",
       "      <th>7</th>\n",
       "      <td>quadratic_kbest</td>\n",
       "      <td>0.187065</td>\n",
       "      <td>0.186616</td>\n",
       "    </tr>\n",
       "    <tr>\n",
       "      <th>8</th>\n",
       "      <td>quadratic_rfe</td>\n",
       "      <td>0.185730</td>\n",
       "      <td>0.184879</td>\n",
       "    </tr>\n",
       "  </tbody>\n",
       "</table>\n",
       "</div>"
      ],
      "text/plain": [
       "                 model  RMSE_train  RMSE_validate\n",
       "0        mean_baseline    0.208883       0.208898\n",
       "1    OLS Regressor RFE    0.186380       0.185511\n",
       "2  OLS Regressor KBEST    0.187970       0.187550\n",
       "3   Lasso_alpha1_KBEST    0.208851       0.208888\n",
       "4     Lasso_alpha1_RFE    0.208851       0.208888\n",
       "5   glm_compound_kbest    0.187992       0.187311\n",
       "6     glm_compound_rfe    0.186132       0.185047\n",
       "7      quadratic_kbest    0.187065       0.186616\n",
       "8        quadratic_rfe    0.185730       0.184879"
      ]
     },
     "execution_count": 16,
     "metadata": {},
     "output_type": "execute_result"
    }
   ],
   "source": [
    "metric_df"
   ]
  },
  {
   "cell_type": "code",
   "execution_count": 17,
   "id": "8ac3c1a9",
   "metadata": {},
   "outputs": [],
   "source": [
    "# Make the polynomial features to get a new set of features. import from sklearn\n",
    "pf = PolynomialFeatures(degree=2)\n",
    "\n",
    "# Fit and transform X_train_scaled\n",
    "X_train_degree2_rfe = pf.fit_transform(X_train_rfe)\n",
    "\n",
    "# Transform X_validate_scaled & X_test_scaled\n",
    "X_validate_degree2_rfe = pf.transform(X_validate_rfe)\n",
    "X_test_degree2_rfe =  pf.transform(X_test_rfe)"
   ]
  },
  {
   "cell_type": "code",
   "execution_count": 18,
   "id": "e6aafaa5",
   "metadata": {},
   "outputs": [
    {
     "name": "stdout",
     "output_type": "stream",
     "text": [
      "RMSE for Polynomial Model, degrees=2\n",
      "Training/In-Sample:  0.18573040401903843 \n",
      "Validation/Out-of-Sample:  0.18487887876821385\n"
     ]
    }
   ],
   "source": [
    "# I use the RFE features here:\n",
    "# Create the model object\n",
    "lm2 = LinearRegression()\n",
    "\n",
    "# Fit the model to our test data. \n",
    "lm2.fit(X_test_degree2_rfe, y_test_scaled.tax_value)\n",
    "\n",
    "# Create a column in the y_test_scaled dataframe to hold the polynomial regression prediction:\n",
    "y_test_scaled['tax_value_pred_lm2_rfe'] = lm2.predict(X_test_degree2_rfe)\n",
    "\n",
    "# Evaluate by calculating its RMSE on test\n",
    "rmse_test = mean_squared_error(y_test_scaled.tax_value, y_test_scaled.tax_value_pred_lm2_rfe) ** (1/2)\n",
    "# A statement reminding us of the RMSE on the train and validate samples:\n",
    "print(\"RMSE for Polynomial Model, degrees=2\\nTraining/In-Sample: \", metric_df.RMSE_train.iloc[8], \n",
    "      \"\\nValidation/Out-of-Sample: \", metric_df.RMSE_validate.iloc[8],)\n",
    "\n"
   ]
  },
  {
   "cell_type": "code",
   "execution_count": null,
   "id": "dece9ccd",
   "metadata": {},
   "outputs": [],
   "source": []
  },
  {
   "cell_type": "code",
   "execution_count": null,
   "id": "c0b2096d",
   "metadata": {},
   "outputs": [],
   "source": []
  },
  {
   "cell_type": "code",
   "execution_count": null,
   "id": "de3eb6b4",
   "metadata": {},
   "outputs": [],
   "source": []
  },
  {
   "cell_type": "code",
   "execution_count": 23,
   "id": "62b6026e",
   "metadata": {},
   "outputs": [
    {
     "data": {
      "image/png": "[encoded data removed]",
      "text/plain": [
       "<Figure size 432x288 with 1 Axes>"
      ]
     },
     "metadata": {
      "needs_background": "light"
     },
     "output_type": "display_data"
    }
   ],
   "source": [
    "# plt.figure(figsize=(5,5))\n",
    "plt.axhline(label=\"No Error\")\n",
    "plt.scatter(y_test_scaled.tax_value, y_test_scaled.tax_value_pred_lm2_rfe - y_test_scaled.tax_value,\\\n",
    "            alpha=.5, color=\"red\", label=\"Model: Polynomial Regression\")\n",
    "# plt.scatter(y_validate.Fertility, y_validate.Fert_pred_glm - y_validate.Fertility, \n",
    "#             alpha=.5, color=\"yellow\", s=100, label=\"Model: TweedieRegressor\")\n",
    "# plt.scatter(y_validate.Fertility, y_validate.Fert_pred_lm2 - y_validate.Fertility, \n",
    "#             alpha=.5, color=\"green\", s=100, label=\"Model 2nd degree Polynomial\")\n",
    "plt.legend()\n",
    "plt.xlabel(\"Actual Fertility\")\n",
    "plt.ylabel(\"Residual/Error: Predicted Fertility - Actual Fertility\")\n",
    "plt.title(\"Do the size of errors change as the actual value changes?\")\n",
    "plt.annotate(\"The polynomial model appears to overreact to noise\", (1,1))\n",
    "plt.annotate(\"The TweedieRegressor\\n appears to be most consistent, along with OLS\", (1,1))\n",
    "plt.show()"
   ]
  },
  {
   "cell_type": "code",
   "execution_count": null,
   "id": "40291444",
   "metadata": {},
   "outputs": [],
   "source": []
  }
 ],
 "metadata": {
  "kernelspec": {
   "display_name": "Python 3",
   "language": "python",
   "name": "python3"
  },
  "language_info": {
   "codemirror_mode": {
    "name": "ipython",
    "version": 3
   },
   "file_extension": ".py",
   "mimetype": "text/x-python",
   "name": "python",
   "nbconvert_exporter": "python",
   "pygments_lexer": "ipython3",
   "version": "3.8.8"
  }
 },
 "nbformat": 4,
 "nbformat_minor": 5
}
