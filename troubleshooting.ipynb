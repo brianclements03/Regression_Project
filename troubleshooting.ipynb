{
 "cells": [
  {
   "cell_type": "code",
   "execution_count": null,
   "id": "183289d0",
   "metadata": {},
   "outputs": [],
   "source": [
    "import matplotlib.pyplot as plt\n",
    "import numpy as np\n",
    "import pandas as pd\n",
    "from pydataset import data\n",
    "import statistics\n",
    "import seaborn as sns\n",
    "import env\n",
    "from sklearn.model_selection import train_test_split\n",
    "from sklearn.impute import SimpleImputer\n",
    "import scipy\n",
    "from scipy import stats\n",
    "from sklearn.linear_model import LinearRegression, LassoLars, TweedieRegressor\n",
    "from sklearn.preprocessing import PolynomialFeatures\n",
    "from sklearn.metrics import mean_squared_error\n",
    "from sklearn.tree import DecisionTreeClassifier\n",
    "from sklearn.tree import export_graphviz\n",
    "from sklearn.metrics import classification_report\n",
    "from sklearn.metrics import confusion_matrix\n",
    "from sklearn.ensemble import RandomForestClassifier\n",
    "from sklearn.neighbors import KNeighborsClassifier\n",
    "from sklearn.linear_model import LogisticRegression\n",
    "import sklearn.linear_model\n",
    "import sklearn.preprocessing\n",
    "import warnings\n",
    "warnings.filterwarnings(\"ignore\")\n",
    "# importing my personal wrangle module\n",
    "import wrangle\n",
    "import model\n",
    "import viz"
   ]
  },
  {
   "cell_type": "code",
   "execution_count": null,
   "id": "2c3c1cf4",
   "metadata": {},
   "outputs": [],
   "source": [
    "# Acquiring the data using the wrangle\n",
    "zillow_sql_query = wrangle.get_zillow_data()\n",
    "# I am working with a copy of the SQL query to be able to access it faster\n",
    "zillow = zillow_sql_query.copy()"
   ]
  },
  {
   "cell_type": "code",
   "execution_count": null,
   "id": "10f2325c",
   "metadata": {},
   "outputs": [],
   "source": [
    "zillow = wrangle.clean_and_prep_data(zillow)"
   ]
  },
  {
   "cell_type": "code",
   "execution_count": null,
   "id": "4b3186c1",
   "metadata": {},
   "outputs": [],
   "source": [
    "encoded = wrangle.encode_zillow(zillow)"
   ]
  },
  {
   "cell_type": "code",
   "execution_count": null,
   "id": "e67f41c9",
   "metadata": {},
   "outputs": [],
   "source": [
    "train, validate, test,X_train, y_train, X_validate, y_validate, X_test, y_test = wrangle.split_zillow(encoded)"
   ]
  },
  {
   "cell_type": "code",
   "execution_count": null,
   "id": "9a46c531",
   "metadata": {},
   "outputs": [],
   "source": [
    "train_scaled, X_train_scaled, y_train_scaled, \\\n",
    "validate_scaled, X_validate_scaled, y_validate_scaled, \\\n",
    "test_scaled, X_test_scaled, y_test_scaled = wrangle.scale_zillow(train, validate, test)"
   ]
  },
  {
   "cell_type": "code",
   "execution_count": null,
   "id": "25b30dca",
   "metadata": {},
   "outputs": [],
   "source": [
    "X_train_kbest, X_validate_kbest, X_test_kbest, X_train_rfe, X_validate_rfe, X_test_rfe \\\n",
    "= model.create_data_for_models(X_train_scaled, X_validate_scaled, X_test_scaled)"
   ]
  },
  {
   "cell_type": "code",
   "execution_count": null,
   "id": "62e96661",
   "metadata": {},
   "outputs": [],
   "source": [
    "# 1. Predict tax_value_pred_mean\n",
    "tax_value_pred_mean = y_train_scaled.tax_value.mean()\n",
    "y_train_scaled['tax_value_pred_mean'] = round(tax_value_pred_mean, 2)\n",
    "y_validate_scaled['tax_value_pred_mean'] = round(tax_value_pred_mean,2)\n",
    "y_test_scaled['tax_value_pred_mean'] = round(tax_value_pred_mean,2)"
   ]
  },
  {
   "cell_type": "code",
   "execution_count": null,
   "id": "c460af32",
   "metadata": {},
   "outputs": [],
   "source": [
    "\n",
    "# 3. RMSE of tax_value_pred_mean\n",
    "from sklearn.metrics import mean_squared_error\n",
    "\n",
    "\n",
    "rmse_train = mean_squared_error(y_train_scaled.tax_value,\n",
    "                                y_train_scaled.tax_value_pred_mean) ** .5\n",
    "rmse_validate = mean_squared_error(y_validate_scaled.tax_value, y_validate_scaled.tax_value_pred_mean) ** (0.5)\n",
    "\n",
    "print(\"RMSE using Mean\\nTrain/In-Sample: \", round(rmse_train, 2), \n",
    "      \"\\nValidate/Out-of-Sample: \", round(rmse_validate, 2))"
   ]
  },
  {
   "cell_type": "code",
   "execution_count": null,
   "id": "8715b703",
   "metadata": {},
   "outputs": [],
   "source": [
    "viz.actual_vs_predicted(y_train_scaled)"
   ]
  },
  {
   "cell_type": "code",
   "execution_count": null,
   "id": "f78779ad",
   "metadata": {},
   "outputs": [],
   "source": [
    "metric_df = pd.DataFrame(data=[\n",
    "            {\n",
    "                'model': 'mean_baseline', \n",
    "                'RMSE_train': rmse_train,\n",
    "                'RMSE_validate': rmse_validate\n",
    "                }\n",
    "            ])\n",
    "metric_df"
   ]
  },
  {
   "cell_type": "code",
   "execution_count": null,
   "id": "8706c096",
   "metadata": {},
   "outputs": [],
   "source": [
    "metric_df = model.run_ols_model_kbest(X_train_kbest, y_train_scaled, X_validate_kbest, y_validate_scaled, metric_df)\n"
   ]
  },
  {
   "cell_type": "code",
   "execution_count": null,
   "id": "9595d8d5",
   "metadata": {},
   "outputs": [],
   "source": [
    "metric_df = model.run_ols_model_rfe(X_train_rfe, y_train_scaled, X_validate_rfe, y_validate_scaled, metric_df)\n"
   ]
  },
  {
   "cell_type": "code",
   "execution_count": null,
   "id": "42884734",
   "metadata": {},
   "outputs": [],
   "source": [
    "from sklearn.linear_model import LinearRegression, LassoLars, TweedieRegressor\n",
    "from sklearn.preprocessing import PolynomialFeatures\n",
    "\n",
    "metric_df = model.lasso_lars_kbest(X_train_kbest, y_train_scaled, X_validate_kbest, y_validate_scaled, metric_df)\n",
    "\n",
    "print(\"RMSE for Lasso + Lars\\nTraining/In-Sample: \", rmse_train, \n",
    "      \"\\nValidation/Out-of-Sample: \", rmse_validate,\n",
    "     \"\\nDifference: \", rmse_validate - rmse_train)"
   ]
  },
  {
   "cell_type": "code",
   "execution_count": null,
   "id": "c2dc3945",
   "metadata": {},
   "outputs": [],
   "source": [
    "metric_df = model.lasso_lars_rfe(X_train_rfe, y_train_scaled, X_validate_rfe, y_validate_scaled, metric_df)"
   ]
  },
  {
   "cell_type": "code",
   "execution_count": null,
   "id": "f35a36bc",
   "metadata": {},
   "outputs": [],
   "source": [
    "metric_df = model.tweedie_kbest(X_train_kbest, y_train_scaled, X_validate_kbest, y_validate_scaled, metric_df)"
   ]
  },
  {
   "cell_type": "code",
   "execution_count": null,
   "id": "fbb18c41",
   "metadata": {},
   "outputs": [],
   "source": [
    "metric_df = model.tweedie_rfe(X_train_rfe, y_train_scaled, X_validate_rfe, y_validate_scaled, metric_df)\n"
   ]
  },
  {
   "cell_type": "code",
   "execution_count": null,
   "id": "d3d2a3a2",
   "metadata": {},
   "outputs": [],
   "source": [
    "metric_df = model.polynomial_regression_kbest(X_train_kbest, y_train_scaled, X_validate_kbest, y_validate_scaled, \\\n",
    "                                              X_test_kbest, metric_df)"
   ]
  },
  {
   "cell_type": "code",
   "execution_count": null,
   "id": "686b38d3",
   "metadata": {},
   "outputs": [],
   "source": [
    "metric_df = model.polynomial_regression_rfe(X_train_rfe, y_train_scaled, X_validate_rfe, y_validate_scaled, X_test_rfe, metric_df)\n"
   ]
  },
  {
   "cell_type": "code",
   "execution_count": null,
   "id": "452edb3d",
   "metadata": {
    "scrolled": true
   },
   "outputs": [],
   "source": [
    "metric_df"
   ]
  },
  {
   "cell_type": "code",
   "execution_count": null,
   "id": "0fd5009e",
   "metadata": {},
   "outputs": [],
   "source": [
    "metric_df = model.run_all_models_on_all_data(X_train_kbest, y_train_scaled, X_validate_kbest, y_validate_scaled, X_train_rfe, X_validate_rfe, X_test_kbest, X_test_rfe, metric_df)\n"
   ]
  },
  {
   "cell_type": "code",
   "execution_count": null,
   "id": "4aef4e35",
   "metadata": {},
   "outputs": [],
   "source": [
    "metric_df"
   ]
  },
  {
   "cell_type": "code",
   "execution_count": null,
   "id": "1743efee",
   "metadata": {},
   "outputs": [],
   "source": [
    "viz.age_by_county(train)"
   ]
  }
 ],
 "metadata": {
  "kernelspec": {
   "display_name": "Python 3",
   "language": "python",
   "name": "python3"
  },
  "language_info": {
   "codemirror_mode": {
    "name": "ipython",
    "version": 3
   },
   "file_extension": ".py",
   "mimetype": "text/x-python",
   "name": "python",
   "nbconvert_exporter": "python",
   "pygments_lexer": "ipython3",
   "version": "3.8.8"
  }
 },
 "nbformat": 4,
 "nbformat_minor": 5
}
