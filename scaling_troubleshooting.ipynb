{
 "cells": [
  {
   "cell_type": "code",
   "execution_count": null,
   "id": "305c8ff5",
   "metadata": {},
   "outputs": [],
   "source": [
    "import matplotlib.pyplot as plt\n",
    "import numpy as np\n",
    "import pandas as pd\n",
    "from pydataset import data\n",
    "import statistics\n",
    "import seaborn as sns\n",
    "import env\n",
    "from sklearn.model_selection import train_test_split\n",
    "from sklearn.impute import SimpleImputer\n",
    "import scipy\n",
    "import acquire\n",
    "import prepare\n",
    "from scipy import stats\n",
    "\n",
    "from sklearn.tree import DecisionTreeClassifier\n",
    "from sklearn.tree import export_graphviz\n",
    "from sklearn.metrics import classification_report\n",
    "from sklearn.metrics import confusion_matrix\n",
    "from sklearn.ensemble import RandomForestClassifier\n",
    "from sklearn.neighbors import KNeighborsClassifier\n",
    "from sklearn.linear_model import LogisticRegression\n",
    "import sklearn.linear_model\n",
    "import sklearn.preprocessing\n",
    "import warnings\n",
    "warnings.filterwarnings(\"ignore\")\n",
    "# importing my personal wrangle module\n",
    "import wrangle\n",
    "import explore"
   ]
  },
  {
   "cell_type": "code",
   "execution_count": null,
   "id": "0a8b377d",
   "metadata": {},
   "outputs": [],
   "source": [
    "# Acquiring the data using the above module\n",
    "zillow_sql_query = wrangle.get_zillow_data()\n",
    "# PLEASE THINK ABOUT ADDING A ZILLOW_COPY TO WORK WITH FROM HERE, THEREBY AVOIDING FUTURE SQL QUERIES\n",
    "# Code below will have to be updated accordingly.  \n",
    "zillow = zillow_sql_query.copy()"
   ]
  },
  {
   "cell_type": "code",
   "execution_count": null,
   "id": "fb7ca617",
   "metadata": {},
   "outputs": [],
   "source": [
    "zillow.head()"
   ]
  },
  {
   "cell_type": "code",
   "execution_count": null,
   "id": "066d054a",
   "metadata": {},
   "outputs": [],
   "source": [
    "# Using my wrangle module to clean and prep the data. NaNs are dropped; so are outliers. \n",
    "# In the end, I added an 'age' column and deleted the yearbuilt column (which was more like a categorical variable)\n",
    "# No outliers were removed from year built, age, or fips\n",
    "zillow = wrangle.clean_and_prep_data(zillow)"
   ]
  },
  {
   "cell_type": "code",
   "execution_count": null,
   "id": "58bdfe31",
   "metadata": {},
   "outputs": [],
   "source": [
    "zillow.head()"
   ]
  },
  {
   "cell_type": "code",
   "execution_count": null,
   "id": "1c926277",
   "metadata": {},
   "outputs": [],
   "source": [
    "zillow.shape, zillow_sql_query.shape\n",
    "# my clean_and_prep function is cutting down the size here, it wasn't me"
   ]
  },
  {
   "cell_type": "code",
   "execution_count": null,
   "id": "2c7cf777",
   "metadata": {},
   "outputs": [],
   "source": [
    "encoded = wrangle.encode_zillow(zillow)\n",
    "encoded.head()"
   ]
  },
  {
   "cell_type": "markdown",
   "id": "783271ea",
   "metadata": {},
   "source": [
    "# SPLITTING"
   ]
  },
  {
   "cell_type": "code",
   "execution_count": null,
   "id": "20e04028",
   "metadata": {
    "scrolled": false
   },
   "outputs": [],
   "source": [
    "train, validate, test,X_train, y_train, X_validate, y_validate, X_test, y_test = wrangle.split_zillow(encoded)\n",
    "train.shape, validate.shape, test.shape,X_train.shape, y_train.shape, X_validate.shape, y_validate.shape, X_test.shape, y_test.shape"
   ]
  },
  {
   "cell_type": "code",
   "execution_count": null,
   "id": "70879877",
   "metadata": {},
   "outputs": [],
   "source": [
    "train.dtypes\n"
   ]
  },
  {
   "cell_type": "markdown",
   "id": "9e3ea5dd",
   "metadata": {},
   "source": [
    "# SCALING\n",
    "### I've done it in this order so I can explore different data sets as is appropriate"
   ]
  },
  {
   "cell_type": "code",
   "execution_count": null,
   "id": "bb7c590e",
   "metadata": {},
   "outputs": [],
   "source": [
    "train_scaled, X_train_scaled, y_train_scaled, validate_scaled, X_validate_scaled, y_validate_scaled, test_scaled, X_test_scaled, y_test_scaled = wrangle.scale_zillow(train, validate, test)"
   ]
  },
  {
   "cell_type": "code",
   "execution_count": null,
   "id": "2cc4530f",
   "metadata": {},
   "outputs": [],
   "source": [
    "train_scaled, X_train_scaled, y_train_scaled, validate_scaled, X_validate_scaled, y_validate_scaled, test_scaled, X_test_scaled, y_test_scaled"
   ]
  },
  {
   "cell_type": "code",
   "execution_count": null,
   "id": "e8ca2417",
   "metadata": {},
   "outputs": [],
   "source": [
    "y_test_scaled"
   ]
  },
  {
   "cell_type": "code",
   "execution_count": null,
   "id": "df5b1808",
   "metadata": {},
   "outputs": [],
   "source": []
  }
 ],
 "metadata": {
  "kernelspec": {
   "display_name": "Python 3",
   "language": "python",
   "name": "python3"
  },
  "language_info": {
   "codemirror_mode": {
    "name": "ipython",
    "version": 3
   },
   "file_extension": ".py",
   "mimetype": "text/x-python",
   "name": "python",
   "nbconvert_exporter": "python",
   "pygments_lexer": "ipython3",
   "version": "3.8.8"
  }
 },
 "nbformat": 4,
 "nbformat_minor": 5
}
