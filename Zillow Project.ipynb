{
 "cells": [
  {
   "cell_type": "markdown",
   "id": "e0cd488e",
   "metadata": {},
   "source": [
    "# ZILLOW PROJECT\n",
    "## Predicting the tax value of single family homes in the Los Angeles area"
   ]
  },
  {
   "cell_type": "markdown",
   "id": "126cc079",
   "metadata": {},
   "source": [
    "## Project Description\n",
    "\n",
    "This Jupyter Notebook and presentation explore the Zillow dataset from the Codeup database. The data used relates to 2017 real estate transactions relating to single family homes in three California counties, and different aspects of the properties. An part aspect of the Zillow business model is to be able to publish accurate home values; I intend to build a machine learning model that makes predictions about the tax value of the homes in question.\n",
    "\n",
    "\n",
    "## Project Goals\n",
    "\n",
    "The ultimate goal of this project is to build a model that predicts the tax value of these homes with a higher accuracy than the baseline I have chosen. I will use Residual Mean Square Error as my metric for evaluation, and many models will be built using different features and hyperparameters to find the model of best fit.\n",
    "\n",
    "The final deliverable will be the RMSE value resulting from my best model, contrasted with the baseline RMSE.\n",
    "\n",
    "Additionally, a Jupyter Notebook and presentation with my main findings and conclusions will be a key deliverable; many .py files will exist as a back-up to the main Notebook (think \"under-the-hood\" coding that will facilitate the presentation).\n",
    "\n",
    "## Executive Summary\n",
    "\n",
    "Zillow needs to publish the most accurate home valuations possible to remain the relevant, reliable service that it is known to be.  This study has found certain aspects of homes in the vicinity of Los Angeles to have certain features that, when accurately recorded, help our model beat the baseline prediction. \n",
    "\n",
    "Further research will continue benefitting the model--even with just the data immediately available, it is my opinion that we can continue getting our predictions more accurate. As it stands, the model I am presenting in this notebook is beating the baseline model by over 11%."
   ]
  },
  {
   "cell_type": "code",
   "execution_count": 1,
   "id": "305c8ff5",
   "metadata": {},
   "outputs": [],
   "source": [
    "# Cell to import key python libraries and functions, and my own modules, to be used in the notebook:\n",
    "import matplotlib.pyplot as plt\n",
    "import numpy as np\n",
    "import pandas as pd\n",
    "from pydataset import data\n",
    "import statistics\n",
    "import seaborn as sns\n",
    "import env\n",
    "from sklearn.model_selection import train_test_split\n",
    "from sklearn.impute import SimpleImputer\n",
    "import scipy\n",
    "from scipy import stats\n",
    "from sklearn.linear_model import LinearRegression, LassoLars, TweedieRegressor\n",
    "from sklearn.preprocessing import PolynomialFeatures\n",
    "from sklearn.metrics import mean_squared_error\n",
    "from sklearn.tree import DecisionTreeClassifier\n",
    "from sklearn.tree import export_graphviz\n",
    "from sklearn.metrics import classification_report\n",
    "from sklearn.metrics import confusion_matrix\n",
    "from sklearn.ensemble import RandomForestClassifier\n",
    "from sklearn.neighbors import KNeighborsClassifier\n",
    "from sklearn.linear_model import LogisticRegression\n",
    "from sklearn.metrics import mean_squared_error\n",
    "import sklearn.linear_model\n",
    "import sklearn.preprocessing\n",
    "import warnings\n",
    "warnings.filterwarnings(\"ignore\")\n",
    "# importing my personal wrangle module\n",
    "import wrangle\n",
    "import model\n",
    "import viz"
   ]
  },
  {
   "cell_type": "code",
   "execution_count": 2,
   "id": "0a8b377d",
   "metadata": {},
   "outputs": [],
   "source": [
    "# Acquiring the data using the wrangle\n",
    "zillow_sql_query = wrangle.get_zillow_data()\n",
    "# I am working with a copy of the SQL query to be able to access it faster\n",
    "zillow = zillow_sql_query.copy()"
   ]
  },
  {
   "cell_type": "code",
   "execution_count": 3,
   "id": "066d054a",
   "metadata": {},
   "outputs": [],
   "source": [
    "# Using my wrangle module to clean and prep the data. NaNs are dropped; so are outliers. \n",
    "# An 'age' column has been added\n",
    "# The yearbuilt column was deleted\n",
    "# No outliers were removed from year built, age, or fips; they were removed from all other features, dropping \n",
    "# their respective rowss\n",
    "zillow = wrangle.clean_and_prep_data(zillow)"
   ]
  },
  {
   "cell_type": "code",
   "execution_count": 4,
   "id": "58bdfe31",
   "metadata": {},
   "outputs": [
    {
     "data": {
      "text/html": [
       "<div>\n",
       "<style scoped>\n",
       "    .dataframe tbody tr th:only-of-type {\n",
       "        vertical-align: middle;\n",
       "    }\n",
       "\n",
       "    .dataframe tbody tr th {\n",
       "        vertical-align: top;\n",
       "    }\n",
       "\n",
       "    .dataframe thead th {\n",
       "        text-align: right;\n",
       "    }\n",
       "</style>\n",
       "<table border=\"1\" class=\"dataframe\">\n",
       "  <thead>\n",
       "    <tr style=\"text-align: right;\">\n",
       "      <th></th>\n",
       "      <th>bedrooms</th>\n",
       "      <th>bathrooms</th>\n",
       "      <th>sq_ft</th>\n",
       "      <th>tax_value</th>\n",
       "      <th>county</th>\n",
       "      <th>age</th>\n",
       "      <th>sq_ft_per_bathroom</th>\n",
       "    </tr>\n",
       "  </thead>\n",
       "  <tbody>\n",
       "    <tr>\n",
       "      <th>0</th>\n",
       "      <td>4.0</td>\n",
       "      <td>3.5</td>\n",
       "      <td>3100.0</td>\n",
       "      <td>1023282.0</td>\n",
       "      <td>Orange</td>\n",
       "      <td>23</td>\n",
       "      <td>885.714286</td>\n",
       "    </tr>\n",
       "    <tr>\n",
       "      <th>1</th>\n",
       "      <td>2.0</td>\n",
       "      <td>1.0</td>\n",
       "      <td>1465.0</td>\n",
       "      <td>464000.0</td>\n",
       "      <td>Ventura</td>\n",
       "      <td>54</td>\n",
       "      <td>1465.000000</td>\n",
       "    </tr>\n",
       "    <tr>\n",
       "      <th>2</th>\n",
       "      <td>3.0</td>\n",
       "      <td>2.0</td>\n",
       "      <td>1243.0</td>\n",
       "      <td>564778.0</td>\n",
       "      <td>Orange</td>\n",
       "      <td>59</td>\n",
       "      <td>621.500000</td>\n",
       "    </tr>\n",
       "    <tr>\n",
       "      <th>3</th>\n",
       "      <td>4.0</td>\n",
       "      <td>3.0</td>\n",
       "      <td>2376.0</td>\n",
       "      <td>145143.0</td>\n",
       "      <td>LA</td>\n",
       "      <td>51</td>\n",
       "      <td>792.000000</td>\n",
       "    </tr>\n",
       "    <tr>\n",
       "      <th>4</th>\n",
       "      <td>4.0</td>\n",
       "      <td>3.0</td>\n",
       "      <td>2962.0</td>\n",
       "      <td>773303.0</td>\n",
       "      <td>LA</td>\n",
       "      <td>71</td>\n",
       "      <td>987.333333</td>\n",
       "    </tr>\n",
       "  </tbody>\n",
       "</table>\n",
       "</div>"
      ],
      "text/plain": [
       "   bedrooms  bathrooms   sq_ft  tax_value   county  age  sq_ft_per_bathroom\n",
       "0       4.0        3.5  3100.0  1023282.0   Orange   23          885.714286\n",
       "1       2.0        1.0  1465.0   464000.0  Ventura   54         1465.000000\n",
       "2       3.0        2.0  1243.0   564778.0   Orange   59          621.500000\n",
       "3       4.0        3.0  2376.0   145143.0       LA   51          792.000000\n",
       "4       4.0        3.0  2962.0   773303.0       LA   71          987.333333"
      ]
     },
     "execution_count": 4,
     "metadata": {},
     "output_type": "execute_result"
    }
   ],
   "source": [
    "zillow.head()"
   ]
  },
  {
   "cell_type": "code",
   "execution_count": 5,
   "id": "1c926277",
   "metadata": {},
   "outputs": [
    {
     "data": {
      "text/plain": [
       "((44864, 7), (52442, 7))"
      ]
     },
     "execution_count": 5,
     "metadata": {},
     "output_type": "execute_result"
    }
   ],
   "source": [
    "# my clean_and_prep function is cutting down the size here by \n",
    "# dropping NaNs and removing outliers--the majority of the rows dropped were outliers.\n",
    "zillow.shape, zillow_sql_query.shape"
   ]
  },
  {
   "cell_type": "markdown",
   "id": "c7a9d125",
   "metadata": {},
   "source": [
    "## Initial data exploration:"
   ]
  },
  {
   "cell_type": "code",
   "execution_count": 6,
   "id": "0ff5695b",
   "metadata": {
    "scrolled": true
   },
   "outputs": [
    {
     "data": {
      "image/png": "[encoded data removed]",
      "text/plain": [
       "<Figure size 1152x216 with 6 Axes>"
      ]
     },
     "metadata": {
      "needs_background": "light"
     },
     "output_type": "display_data"
    },
    {
     "data": {
      "image/png": "[encoded data removed]",
      "text/plain": [
       "<Figure size 1152x216 with 6 Axes>"
      ]
     },
     "metadata": {
      "needs_background": "light"
     },
     "output_type": "display_data"
    }
   ],
   "source": [
    "# Here, we create a for loop that makes a histogram for every column. This is the start of my univariate analysis\n",
    "viz.histograms(zillow)"
   ]
  },
  {
   "cell_type": "code",
   "execution_count": 7,
   "id": "446d3781",
   "metadata": {},
   "outputs": [
    {
     "data": {
      "text/html": [
       "<div>\n",
       "<style scoped>\n",
       "    .dataframe tbody tr th:only-of-type {\n",
       "        vertical-align: middle;\n",
       "    }\n",
       "\n",
       "    .dataframe tbody tr th {\n",
       "        vertical-align: top;\n",
       "    }\n",
       "\n",
       "    .dataframe thead th {\n",
       "        text-align: right;\n",
       "    }\n",
       "</style>\n",
       "<table border=\"1\" class=\"dataframe\">\n",
       "  <thead>\n",
       "    <tr style=\"text-align: right;\">\n",
       "      <th></th>\n",
       "      <th>bedrooms</th>\n",
       "      <th>bathrooms</th>\n",
       "      <th>sq_ft</th>\n",
       "      <th>tax_value</th>\n",
       "      <th>county</th>\n",
       "      <th>age</th>\n",
       "      <th>sq_ft_per_bathroom</th>\n",
       "    </tr>\n",
       "  </thead>\n",
       "  <tbody>\n",
       "    <tr>\n",
       "      <th>0</th>\n",
       "      <td>4.0</td>\n",
       "      <td>3.5</td>\n",
       "      <td>3100.0</td>\n",
       "      <td>1023282.0</td>\n",
       "      <td>Orange</td>\n",
       "      <td>23</td>\n",
       "      <td>885.714286</td>\n",
       "    </tr>\n",
       "    <tr>\n",
       "      <th>1</th>\n",
       "      <td>2.0</td>\n",
       "      <td>1.0</td>\n",
       "      <td>1465.0</td>\n",
       "      <td>464000.0</td>\n",
       "      <td>Ventura</td>\n",
       "      <td>54</td>\n",
       "      <td>1465.000000</td>\n",
       "    </tr>\n",
       "    <tr>\n",
       "      <th>2</th>\n",
       "      <td>3.0</td>\n",
       "      <td>2.0</td>\n",
       "      <td>1243.0</td>\n",
       "      <td>564778.0</td>\n",
       "      <td>Orange</td>\n",
       "      <td>59</td>\n",
       "      <td>621.500000</td>\n",
       "    </tr>\n",
       "    <tr>\n",
       "      <th>3</th>\n",
       "      <td>4.0</td>\n",
       "      <td>3.0</td>\n",
       "      <td>2376.0</td>\n",
       "      <td>145143.0</td>\n",
       "      <td>LA</td>\n",
       "      <td>51</td>\n",
       "      <td>792.000000</td>\n",
       "    </tr>\n",
       "    <tr>\n",
       "      <th>4</th>\n",
       "      <td>4.0</td>\n",
       "      <td>3.0</td>\n",
       "      <td>2962.0</td>\n",
       "      <td>773303.0</td>\n",
       "      <td>LA</td>\n",
       "      <td>71</td>\n",
       "      <td>987.333333</td>\n",
       "    </tr>\n",
       "  </tbody>\n",
       "</table>\n",
       "</div>"
      ],
      "text/plain": [
       "   bedrooms  bathrooms   sq_ft  tax_value   county  age  sq_ft_per_bathroom\n",
       "0       4.0        3.5  3100.0  1023282.0   Orange   23          885.714286\n",
       "1       2.0        1.0  1465.0   464000.0  Ventura   54         1465.000000\n",
       "2       3.0        2.0  1243.0   564778.0   Orange   59          621.500000\n",
       "3       4.0        3.0  2376.0   145143.0       LA   51          792.000000\n",
       "4       4.0        3.0  2962.0   773303.0       LA   71          987.333333"
      ]
     },
     "execution_count": 7,
     "metadata": {},
     "output_type": "execute_result"
    }
   ],
   "source": [
    "zillow.head()"
   ]
  },
  {
   "cell_type": "code",
   "execution_count": 8,
   "id": "af295b66",
   "metadata": {},
   "outputs": [
    {
     "data": {
      "text/plain": [
       "<AxesSubplot:xlabel='bathrooms', ylabel='count'>"
      ]
     },
     "execution_count": 8,
     "metadata": {},
     "output_type": "execute_result"
    },
    {
     "data": {
      "image/png": "[encoded data removed]",
      "text/plain": [
       "<Figure size 1152x216 with 2 Axes>"
      ]
     },
     "metadata": {
      "needs_background": "light"
     },
     "output_type": "display_data"
    }
   ],
   "source": [
    "# Creating a figure with 2 subplots\n",
    "plt.figure(figsize = (16,3))\n",
    "plt.subplot(1,2, 1)\n",
    "# Here, we see a seaborn countplot of number of bedrooms and bathrooms (univariate analysis)\n",
    "sns.countplot(x=zillow.bedrooms, data = zillow)\n",
    "plt.subplot(1,2, 2)\n",
    "sns.countplot(x=zillow.bathrooms, data = zillow)\n"
   ]
  },
  {
   "cell_type": "code",
   "execution_count": 9,
   "id": "d2178e8d",
   "metadata": {},
   "outputs": [
    {
     "data": {
      "text/html": [
       "<div>\n",
       "<style scoped>\n",
       "    .dataframe tbody tr th:only-of-type {\n",
       "        vertical-align: middle;\n",
       "    }\n",
       "\n",
       "    .dataframe tbody tr th {\n",
       "        vertical-align: top;\n",
       "    }\n",
       "\n",
       "    .dataframe thead th {\n",
       "        text-align: right;\n",
       "    }\n",
       "</style>\n",
       "<table border=\"1\" class=\"dataframe\">\n",
       "  <thead>\n",
       "    <tr style=\"text-align: right;\">\n",
       "      <th></th>\n",
       "      <th>count</th>\n",
       "      <th>mean</th>\n",
       "      <th>std</th>\n",
       "      <th>min</th>\n",
       "      <th>25%</th>\n",
       "      <th>50%</th>\n",
       "      <th>75%</th>\n",
       "      <th>max</th>\n",
       "    </tr>\n",
       "  </thead>\n",
       "  <tbody>\n",
       "    <tr>\n",
       "      <th>bedrooms</th>\n",
       "      <td>44864.0</td>\n",
       "      <td>3.21</td>\n",
       "      <td>0.79</td>\n",
       "      <td>2.0</td>\n",
       "      <td>3.0</td>\n",
       "      <td>3.0</td>\n",
       "      <td>4.0</td>\n",
       "      <td>5.0</td>\n",
       "    </tr>\n",
       "    <tr>\n",
       "      <th>bathrooms</th>\n",
       "      <td>44864.0</td>\n",
       "      <td>2.09</td>\n",
       "      <td>0.72</td>\n",
       "      <td>1.0</td>\n",
       "      <td>2.0</td>\n",
       "      <td>2.0</td>\n",
       "      <td>2.5</td>\n",
       "      <td>4.0</td>\n",
       "    </tr>\n",
       "    <tr>\n",
       "      <th>sq_ft</th>\n",
       "      <td>44864.0</td>\n",
       "      <td>1694.01</td>\n",
       "      <td>605.61</td>\n",
       "      <td>152.0</td>\n",
       "      <td>1238.0</td>\n",
       "      <td>1568.0</td>\n",
       "      <td>2050.0</td>\n",
       "      <td>3566.0</td>\n",
       "    </tr>\n",
       "    <tr>\n",
       "      <th>tax_value</th>\n",
       "      <td>44864.0</td>\n",
       "      <td>363580.89</td>\n",
       "      <td>233629.59</td>\n",
       "      <td>1000.0</td>\n",
       "      <td>171473.0</td>\n",
       "      <td>331368.0</td>\n",
       "      <td>511394.0</td>\n",
       "      <td>1122409.0</td>\n",
       "    </tr>\n",
       "    <tr>\n",
       "      <th>age</th>\n",
       "      <td>44864.0</td>\n",
       "      <td>58.98</td>\n",
       "      <td>21.62</td>\n",
       "      <td>5.0</td>\n",
       "      <td>45.0</td>\n",
       "      <td>61.0</td>\n",
       "      <td>71.0</td>\n",
       "      <td>143.0</td>\n",
       "    </tr>\n",
       "    <tr>\n",
       "      <th>sq_ft_per_bathroom</th>\n",
       "      <td>44864.0</td>\n",
       "      <td>840.16</td>\n",
       "      <td>227.00</td>\n",
       "      <td>76.0</td>\n",
       "      <td>683.0</td>\n",
       "      <td>803.0</td>\n",
       "      <td>955.0</td>\n",
       "      <td>3438.0</td>\n",
       "    </tr>\n",
       "  </tbody>\n",
       "</table>\n",
       "</div>"
      ],
      "text/plain": [
       "                      count       mean        std     min       25%       50%  \\\n",
       "bedrooms            44864.0       3.21       0.79     2.0       3.0       3.0   \n",
       "bathrooms           44864.0       2.09       0.72     1.0       2.0       2.0   \n",
       "sq_ft               44864.0    1694.01     605.61   152.0    1238.0    1568.0   \n",
       "tax_value           44864.0  363580.89  233629.59  1000.0  171473.0  331368.0   \n",
       "age                 44864.0      58.98      21.62     5.0      45.0      61.0   \n",
       "sq_ft_per_bathroom  44864.0     840.16     227.00    76.0     683.0     803.0   \n",
       "\n",
       "                         75%        max  \n",
       "bedrooms                 4.0        5.0  \n",
       "bathrooms                2.5        4.0  \n",
       "sq_ft                 2050.0     3566.0  \n",
       "tax_value           511394.0  1122409.0  \n",
       "age                     71.0      143.0  \n",
       "sq_ft_per_bathroom     955.0     3438.0  "
      ]
     },
     "execution_count": 9,
     "metadata": {},
     "output_type": "execute_result"
    }
   ],
   "source": [
    "# Describe was displaying with scientific notation, so I rounded to 2 places.  \n",
    "round(zillow.describe(),2).T"
   ]
  },
  {
   "cell_type": "code",
   "execution_count": 10,
   "id": "2c7cf777",
   "metadata": {
    "scrolled": true
   },
   "outputs": [],
   "source": [
    "# This cell utilizes a function in my wrangle.py to encode the fips (renamed 'county')\n",
    "encoded = wrangle.encode_zillow(zillow)"
   ]
  },
  {
   "cell_type": "markdown",
   "id": "18386bd4",
   "metadata": {},
   "source": [
    "# SPLITTING"
   ]
  },
  {
   "cell_type": "code",
   "execution_count": 11,
   "id": "0396b0cb",
   "metadata": {
    "scrolled": false
   },
   "outputs": [],
   "source": [
    "# Wrangle.py has a function to split the data into train, validate and test sets\n",
    "# Additionally, I have split further in X_ and y_ sets for train, validate and test respectively\n",
    "train, validate, test,X_train, y_train, X_validate, y_validate, X_test, y_test = wrangle.split_zillow(encoded)"
   ]
  },
  {
   "cell_type": "markdown",
   "id": "816dca6e",
   "metadata": {},
   "source": [
    "# SCALING\n",
    "### I've done it in this order so I can explore different data sets as is appropriate"
   ]
  },
  {
   "cell_type": "code",
   "execution_count": 12,
   "id": "9bdf4c88",
   "metadata": {},
   "outputs": [],
   "source": [
    "# Wrangly.py also has a function to scale my data\n",
    "# I saved these to different variables so I could use the exact data set for different analyes\n",
    "train_scaled, X_train_scaled, y_train_scaled, \\\n",
    "validate_scaled, X_validate_scaled, y_validate_scaled, \\\n",
    "test_scaled, X_test_scaled, y_test_scaled = wrangle.scale_zillow(train, validate, test)"
   ]
  },
  {
   "cell_type": "markdown",
   "id": "65cf1b38",
   "metadata": {},
   "source": [
    "### Takeaway: LA county has slightly older homes that have kept their value more than homes in the other counties. Please note the left skew of Orange and Ventura counties (compared to LA)"
   ]
  },
  {
   "cell_type": "markdown",
   "id": "eeb51a92",
   "metadata": {},
   "source": [
    "# DATA EXPLORATION--BIVARIATE AND MULTIVARIATE"
   ]
  },
  {
   "cell_type": "markdown",
   "id": "e46953d2",
   "metadata": {},
   "source": [
    "### I relied on an unencoded version of the data set for some of my visual exploration."
   ]
  },
  {
   "cell_type": "code",
   "execution_count": 13,
   "id": "44d27bbf",
   "metadata": {},
   "outputs": [
    {
     "data": {
      "text/plain": [
       "<AxesSubplot:xlabel='bathrooms', ylabel='tax_value'>"
      ]
     },
     "execution_count": 13,
     "metadata": {},
     "output_type": "execute_result"
    },
    {
     "data": {
      "image/png": "[encoded data removed]",
      "text/plain": [
       "<Figure size 1152x216 with 3 Axes>"
      ]
     },
     "metadata": {
      "needs_background": "light"
     },
     "output_type": "display_data"
    }
   ],
   "source": [
    "# Creating a figure with 3 subplots\n",
    "plt.figure(figsize = (16,3))\n",
    "plt.subplot(1,3, 1)\n",
    "\n",
    "# Here, we see a seaborn barplot of the average tax value in each county\n",
    "sns.barplot(x=train.county, y=train.tax_value)\n",
    "# And tax value for bedroom count\n",
    "plt.subplot(1,3, 2)\n",
    "sns.barplot(x=train.bedrooms, y=train.tax_value)\n",
    "# Finally tax value for bedroom count\n",
    "plt.subplot(1,3, 3)\n",
    "sns.barplot(x=train.bathrooms, y=train.tax_value)"
   ]
  },
  {
   "cell_type": "markdown",
   "id": "b6603fa3",
   "metadata": {},
   "source": [
    "### Orange county has the highest-valued houses, on average, followed by Ventura"
   ]
  },
  {
   "cell_type": "code",
   "execution_count": 14,
   "id": "11c57df7",
   "metadata": {
    "scrolled": true
   },
   "outputs": [
    {
     "data": {
      "text/plain": [
       "<AxesSubplot:xlabel='bathrooms', ylabel='tax_value'>"
      ]
     },
     "execution_count": 14,
     "metadata": {},
     "output_type": "execute_result"
    },
    {
     "data": {
      "image/png": "[encoded data removed]",
      "text/plain": [
       "<Figure size 432x288 with 1 Axes>"
      ]
     },
     "metadata": {
      "needs_background": "light"
     },
     "output_type": "display_data"
    }
   ],
   "source": [
    "# And a seaborn barplot of bathrooms vs. tax value\n",
    "sns.barplot(x=train.bathrooms, y=train.tax_value)"
   ]
  },
  {
   "cell_type": "markdown",
   "id": "876ff4d4",
   "metadata": {},
   "source": [
    "### More bathrooms raise the tax value; do half bathrooms have a larger effect?"
   ]
  },
  {
   "cell_type": "code",
   "execution_count": 15,
   "id": "6f821575",
   "metadata": {},
   "outputs": [
    {
     "data": {
      "text/plain": [
       "<AxesSubplot:>"
      ]
     },
     "execution_count": 15,
     "metadata": {},
     "output_type": "execute_result"
    },
    {
     "data": {
      "image/png": "[encoded data removed]",
      "text/plain": [
       "<Figure size 432x288 with 2 Axes>"
      ]
     },
     "metadata": {
      "needs_background": "light"
     },
     "output_type": "display_data"
    }
   ],
   "source": [
    "# This code is creating a variable holding the correlations of the different variable between each other\n",
    "train_corr = train.corr()\n",
    "# And here, we use the variable to draw up a seaborn heatmap for a better visual\n",
    "sns.heatmap(train_corr, cmap='Purples', annot=True, linewidth=0.5, mask= np.triu(train_corr))"
   ]
  },
  {
   "cell_type": "markdown",
   "id": "28375375",
   "metadata": {},
   "source": [
    "### This heatmap is what inspired me to take a look at the square feet per bathroom, which you saw above as an added feature; I do further exploration immediately below."
   ]
  },
  {
   "cell_type": "code",
   "execution_count": 16,
   "id": "7b4bb270",
   "metadata": {},
   "outputs": [
    {
     "data": {
      "text/plain": [
       "<AxesSubplot:xlabel='bathrooms', ylabel='sq_ft'>"
      ]
     },
     "execution_count": 16,
     "metadata": {},
     "output_type": "execute_result"
    },
    {
     "data": {
      "image/png": "[encoded data removed]",
      "text/plain": [
       "<Figure size 432x288 with 1 Axes>"
      ]
     },
     "metadata": {
      "needs_background": "light"
     },
     "output_type": "display_data"
    }
   ],
   "source": [
    "# This is a seaborn boxplot showing bathrooms against square feet, with mean.\n",
    "sns.boxplot(x='bathrooms', y='sq_ft', data=train)"
   ]
  },
  {
   "cell_type": "code",
   "execution_count": 17,
   "id": "007cd53c",
   "metadata": {},
   "outputs": [],
   "source": [
    "# Here, I use boolean masking to create variables holding only those houses with 2 bathrooms, for example, or 1 or 3\n",
    "baths_2 = train[train.bathrooms == 2.00].sq_ft\n",
    "baths_1 = train[train.bathrooms == 1.00].sq_ft\n",
    "baths_3 = train[train.bathrooms == 3.00].sq_ft\n",
    "baths_2_5 = train[train.bathrooms == 2.50].sq_ft\n",
    "baths_4 = train[train.bathrooms == 4.00].sq_ft\n",
    "baths_1_5 = train[train.bathrooms == 1.50].sq_ft\n",
    "baths_3_5 = train[train.bathrooms == 3.50].sq_ft"
   ]
  },
  {
   "cell_type": "code",
   "execution_count": 18,
   "id": "571332be",
   "metadata": {},
   "outputs": [
    {
     "data": {
      "image/png": "[encoded data removed]",
      "text/plain": [
       "<Figure size 432x288 with 1 Axes>"
      ]
     },
     "metadata": {
      "needs_background": "light"
     },
     "output_type": "display_data"
    }
   ],
   "source": [
    "# The for loop below shows the histogram of each 'bathroom category' using matplotlib\n",
    "# I needed to check the variables for their 'normality' to proceed to stats testing below\n",
    "baths_list = [baths_2, baths_1, baths_3, baths_2_5,baths_4,baths_1_5,baths_3_5]\n",
    "\n",
    "for bath in baths_list:\n",
    "    plt.figure\n",
    "    bath.hist();"
   ]
  },
  {
   "cell_type": "code",
   "execution_count": 19,
   "id": "d98fe7e8",
   "metadata": {},
   "outputs": [
    {
     "name": "stdout",
     "output_type": "stream",
     "text": [
      "115053.3907628811\n",
      "73232.96691576087\n",
      "237156.8394624062\n",
      "193107.49698562815\n",
      "200717.34732485522\n",
      "74290.53161074709\n",
      "201218.9193462751\n"
     ]
    }
   ],
   "source": [
    "# check variances\n",
    "for bath in baths_list:\n",
    "    print(bath.var())\n",
    "# they differ"
   ]
  },
  {
   "cell_type": "markdown",
   "id": "81c175f0",
   "metadata": {},
   "source": [
    "Set Hypothesis\n",
    "- 𝐻0 : Population means of sq_ft (by bathrooms) counts are equal\n",
    "- 𝐻𝑎 : Population means of sq_ft (by bathrooms) are not all equal"
   ]
  },
  {
   "cell_type": "code",
   "execution_count": 20,
   "id": "4ba341fb",
   "metadata": {},
   "outputs": [
    {
     "data": {
      "text/plain": [
       "(6818.1000019266785, 0.0)"
      ]
     },
     "execution_count": 20,
     "metadata": {},
     "output_type": "execute_result"
    }
   ],
   "source": [
    "# This cell runs an ANOVA test on the different 'bathroom categories'\n",
    "# We are demonstrating statistically that the number of bathrooms correlates to the square footage\n",
    "f, p = stats.f_oneway(baths_2, baths_1, baths_3, baths_2_5,baths_4,baths_1_5,baths_3_5)\n",
    "f, p"
   ]
  },
  {
   "cell_type": "code",
   "execution_count": 21,
   "id": "566a3ca0",
   "metadata": {},
   "outputs": [
    {
     "name": "stdout",
     "output_type": "stream",
     "text": [
      "We reject H_O\n"
     ]
    }
   ],
   "source": [
    "# Setting our alpha and returning a statemtent on the validity of the ANOVA test by comparing alpha to the resulting p-value\n",
    "\n",
    "alpha = 0.05\n",
    "if p < alpha:\n",
    "    print(\"We reject H_O\")\n",
    "else:\n",
    "    print(\"We fail to reject $H_{0}$\")"
   ]
  },
  {
   "cell_type": "markdown",
   "id": "63dd0c31",
   "metadata": {},
   "source": [
    "### The ANOVA test shows that we can procede with the understanding that more square feet correlates with a higher number of bathrooms; I have also added a square feet per bathroom feature to the dataset in my wrangle.py for further exploration below."
   ]
  },
  {
   "cell_type": "markdown",
   "id": "b2de6c01",
   "metadata": {},
   "source": [
    "## Research question number 1: \n",
    "\n",
    "Are bigger houses valued higher?"
   ]
  },
  {
   "cell_type": "code",
   "execution_count": null,
   "id": "ba5a5d1e",
   "metadata": {},
   "outputs": [],
   "source": [
    "# This cell creates a seaborn lineplot--it's not the best plot for the data, per se,\n",
    "# but creates a good visual to demonstrate the relationship\n",
    "plt.title('There seems to be a positive correlation between square feet and tax_value')\n",
    "sns.lineplot(x=train_scaled.sq_ft, y=train_scaled.tax_value)#,markers=True)"
   ]
  },
  {
   "cell_type": "markdown",
   "id": "ff44b7fc",
   "metadata": {},
   "source": [
    "### In the following cells, we will establish statistically the relationship:"
   ]
  },
  {
   "cell_type": "markdown",
   "id": "d87f7316",
   "metadata": {},
   "source": [
    "Hypothesis testing: \n",
    "\n",
    "    H_o: Square feet and tax_value are not related\n",
    "    H_a: Square feet and tax_value are related\n",
    "    "
   ]
  },
  {
   "cell_type": "code",
   "execution_count": null,
   "id": "12d6e4ce",
   "metadata": {},
   "outputs": [],
   "source": [
    "# This cell runs a pearson-r correlation test on the square feet and tax value variables\n",
    "alpha = 0.05\n",
    "\n",
    "corr, p = stats.pearsonr(train.sq_ft, train.tax_value)\n",
    "\n",
    "if p < alpha:\n",
    "    print(\"We reject the null hypothesis\")\n",
    "else:\n",
    "    print(\"We fail to reject the null hypothesis\")\n",
    "    \n",
    "corr, p"
   ]
  },
  {
   "cell_type": "markdown",
   "id": "512b3bf8",
   "metadata": {},
   "source": [
    "### There is statistical evidence of a moderate correlation between the variables, and I will proceed with this understanding."
   ]
  },
  {
   "cell_type": "markdown",
   "id": "ea849719",
   "metadata": {},
   "source": [
    "## Research question number 2: what are some of the other aspects of higher-tax value homes:"
   ]
  },
  {
   "cell_type": "code",
   "execution_count": null,
   "id": "9decf524",
   "metadata": {},
   "outputs": [],
   "source": [
    "# I created a seaborn lmplot here to show the relationship between age and tax value\n",
    "# The chart is drawn using 'county' as the hue\n",
    "sns.lmplot(x='age', y='tax_value', data=train, scatter_kws={'alpha':.2},hue='county')#line_kws={'color': 'red'},"
   ]
  },
  {
   "cell_type": "markdown",
   "id": "89addac2",
   "metadata": {},
   "source": [
    "### Takeaway: newer homes are valued higher--but the correlation is weaker in LA county"
   ]
  },
  {
   "cell_type": "markdown",
   "id": "4a6e04de",
   "metadata": {},
   "source": [
    "## Research question number 3: Newer homes are larger; they are also valued more highly. Is there an exception to the rule?\n"
   ]
  },
  {
   "cell_type": "code",
   "execution_count": null,
   "id": "6a649702",
   "metadata": {
    "scrolled": false
   },
   "outputs": [],
   "source": [
    "# This lmplot shows the plot of all homes' sq_ft by tax_value, with a hue on 'county'\n",
    "sns.lmplot(x='sq_ft',y='tax_value',data=train, hue= 'county',scatter_kws={'alpha':.15})"
   ]
  },
  {
   "cell_type": "code",
   "execution_count": null,
   "id": "4740bd38",
   "metadata": {
    "scrolled": true
   },
   "outputs": [],
   "source": [
    "# Much like abovee, but on sq_ft and age\n",
    "sns.lmplot(x='sq_ft',y='age',data=train, hue= 'county',scatter_kws={'alpha':.15})"
   ]
  },
  {
   "cell_type": "code",
   "execution_count": null,
   "id": "3221ae3f",
   "metadata": {},
   "outputs": [],
   "source": [
    "# This code can be accessed in my viz.py module, and creates histograms of age by county:\n",
    "viz.age_by_county(train)"
   ]
  },
  {
   "cell_type": "markdown",
   "id": "d0135ba7",
   "metadata": {},
   "source": [
    "### Takeaways: \n",
    "- LA county has slightly older homes that have kept their value more than homes in the other counties. Please note the right skew of Orange and Ventura counties (compared to LA)\n",
    "- Older homes in LA county don't depreciate as much as in the other counties; nevertheless, larger homes still have a higher tax value there.  "
   ]
  },
  {
   "cell_type": "markdown",
   "id": "371968b6",
   "metadata": {},
   "source": [
    "## Research question number 4: is there a relationship between the sq_ft_per_bathroom and value?"
   ]
  },
  {
   "cell_type": "code",
   "execution_count": null,
   "id": "c20da3d3",
   "metadata": {},
   "outputs": [],
   "source": [
    "# A seaborn barplot of bathrooms vs. tax value\n",
    "sns.barplot(x=train.bathrooms, y=train.tax_value)"
   ]
  },
  {
   "cell_type": "markdown",
   "id": "e3df776e",
   "metadata": {},
   "source": [
    "### It's clear that more bathrroms correlate with higher tax value (see also the heatmap above).  "
   ]
  },
  {
   "cell_type": "code",
   "execution_count": null,
   "id": "47c9af18",
   "metadata": {},
   "outputs": [],
   "source": [
    "# A seaborn lmplot of sq_ft against tax_value, by county\n",
    "sns.lmplot(x='sq_ft_per_bathroom',y='tax_value',data=train, hue= 'county',scatter_kws={'alpha':.15})"
   ]
  },
  {
   "cell_type": "markdown",
   "id": "8d7337f7",
   "metadata": {},
   "source": [
    "## Takeaway: sfpb has less impact on tax value in LA county than in the other two counties.  This is evidence that two models could be handy (LA county vs. the other two)\n",
    "\n",
    "## I'm also of the opinion that having a half bath might be correlated to higher tax value as well, which would be a feature to pursue for further research"
   ]
  },
  {
   "cell_type": "markdown",
   "id": "92e919a9",
   "metadata": {},
   "source": [
    "### I am conducting a pearson-r below to back up my theory stated in the above cell; the assumptions of the test are met."
   ]
  },
  {
   "cell_type": "code",
   "execution_count": null,
   "id": "b4a7268e",
   "metadata": {},
   "outputs": [],
   "source": [
    "# Boolean mask creating samples for LA county and the other two counties:\n",
    "LA_sample = train[train.county == 'LA']\n",
    "Other_counties_sample = train[train.county != 'LA']"
   ]
  },
  {
   "cell_type": "markdown",
   "id": "9e29b6bc",
   "metadata": {},
   "source": [
    "### Differing variances"
   ]
  },
  {
   "cell_type": "markdown",
   "id": "483ff1b1",
   "metadata": {},
   "source": [
    "Set Hypothesis\n",
    "- 𝐻0 : In LA county, sfpb does not impact tax value\n",
    "- 𝐻𝑎 : In LA county, sfpb does impact tax value"
   ]
  },
  {
   "cell_type": "code",
   "execution_count": null,
   "id": "668eedb3",
   "metadata": {},
   "outputs": [],
   "source": [
    "# A pearson-r test for the Los Angles sample, sq_ft as it corrletes to tax value\n",
    "corr_LA, p = stats.pearsonr(LA_sample.sq_ft_per_bathroom,LA_sample.tax_value)\n",
    "corr_LA, p"
   ]
  },
  {
   "cell_type": "code",
   "execution_count": null,
   "id": "eb92cedb",
   "metadata": {},
   "outputs": [],
   "source": [
    "# The same as above, but for Ventura and Orange counties\n",
    "corr_Others, p = stats.pearsonr(Other_counties_sample.sq_ft_per_bathroom,Other_counties_sample.tax_value)\n",
    "corr_Others, p"
   ]
  },
  {
   "cell_type": "markdown",
   "id": "bfa7ae3c",
   "metadata": {},
   "source": [
    "### Takeaway: there is a somewhat stronger correlation between sfpb in Other counties than in LA, almost seven times as much in fact"
   ]
  },
  {
   "cell_type": "markdown",
   "id": "37e4f05a",
   "metadata": {},
   "source": [
    "# Summary: Exploration\n",
    "- I have been able to produce a tidy list of variables that are demonstrated to have an impact on tax value, including:\n",
    "    - square feet\n",
    "    - number of bathrooms\n",
    "  \n",
    "- Apart from this, there is evidence that these relationships work somewhat differently from county to county; for this reason, a furthur exploration will likely include models for LA county versus the rest\n",
    "\n",
    "- For now, my modeling will be based on the results of the K-Best and RFE feature functions in the following cell; both include square feet as one of the top features, and the K-Best model also includes number of bathrooms."
   ]
  },
  {
   "cell_type": "markdown",
   "id": "2e0eaa04",
   "metadata": {},
   "source": [
    "# Feature engineering\n",
    "- I have used the scaled data set to arrive at my kbest and rfe features"
   ]
  },
  {
   "cell_type": "code",
   "execution_count": null,
   "id": "467dddde",
   "metadata": {},
   "outputs": [],
   "source": [
    "# This cell runs my function in feature_engineering.py that selects for the top 'k' number \n",
    "# of features\n",
    "import feature_engineering\n",
    "f_feature = feature_engineering.select_kbest(X_train_scaled,y_train, 3)\n",
    "f_feature"
   ]
  },
  {
   "cell_type": "code",
   "execution_count": null,
   "id": "df4ece8f",
   "metadata": {},
   "outputs": [],
   "source": [
    "# Likewise, here we are using a function from the feature_engineering.py file to select for the best RFE features\n",
    "\n",
    "rfe_feature = feature_engineering.select_rfe(X_train_scaled,y_train, 3)\n",
    "rfe_feature"
   ]
  },
  {
   "cell_type": "markdown",
   "id": "055716a5",
   "metadata": {},
   "source": [
    "# Modeling\n",
    "- I have done modeling on the scaled datasets"
   ]
  },
  {
   "cell_type": "markdown",
   "id": "c8db2f36",
   "metadata": {},
   "source": [
    "### Baseline\n",
    "\n",
    "- I will use MEAN as the baseline for the MVP \n",
    "\n",
    "### Features\n",
    "\n",
    "I will use ['bathrooms', 'sq_ft', 'age'] as my kbest features; ['sq_ft', 'LA', 'Orange'] as my rfe features\n",
    "\n",
    "\n",
    "### All the X_train_scaled, X_validate_scaled, etc. are scaled from X_train, etc.\n",
    "### All of the X_train_kbest, X_train_rfe, etc are derived from the scaled datasets"
   ]
  },
  {
   "cell_type": "code",
   "execution_count": null,
   "id": "c3e4e16b",
   "metadata": {
    "scrolled": true
   },
   "outputs": [],
   "source": [
    "# This cell is running a function in my model.py file\n",
    "# It creates data sets for modeling based on the KBest and RFE features, respectively:\n",
    "X_train_kbest, X_validate_kbest, X_test_kbest, X_train_rfe, X_validate_rfe, X_test_rfe \\\n",
    "= model.create_data_for_models(X_train_scaled, X_validate_scaled, X_test_scaled)"
   ]
  },
  {
   "cell_type": "code",
   "execution_count": null,
   "id": "e1a4a9a4",
   "metadata": {},
   "outputs": [],
   "source": [
    "# 1. Predict tax_value_pred_mean\n",
    "# I create here new columns in the y_ data sets too hold the baseline value I am working with.\n",
    "tax_value_pred_mean = y_train_scaled.tax_value.mean()\n",
    "y_train_scaled['tax_value_pred_mean'] = round(tax_value_pred_mean, 2)\n",
    "y_validate_scaled['tax_value_pred_mean'] = round(tax_value_pred_mean,2)\n",
    "y_test_scaled['tax_value_pred_mean'] = round(tax_value_pred_mean,2)"
   ]
  },
  {
   "cell_type": "code",
   "execution_count": null,
   "id": "c026f398",
   "metadata": {},
   "outputs": [],
   "source": [
    "# 2. RMSE of tax_value_pred_mean\n",
    "# Here, I calculate the Root Mean Squared Error of the baseline and print it\n",
    "from sklearn.metrics import mean_squared_error\n",
    "\n",
    "rmse_train = mean_squared_error(y_train_scaled.tax_value,\n",
    "                                y_train_scaled.tax_value_pred_mean) ** .5\n",
    "rmse_validate = mean_squared_error(y_validate_scaled.tax_value, y_validate_scaled.tax_value_pred_mean) ** (0.5)\n",
    "\n",
    "print(\"RMSE using Mean\\nTrain/In-Sample: \", round(rmse_train, 2), \n",
    "      \"\\nValidate/Out-of-Sample: \", round(rmse_validate, 2))"
   ]
  },
  {
   "cell_type": "code",
   "execution_count": null,
   "id": "46c3aff4",
   "metadata": {},
   "outputs": [],
   "source": [
    "# This cell draws up a chart of all tax values as compared to the baseline using my viz.py module\n",
    "viz.actual_vs_predicted(y_train_scaled)"
   ]
  },
  {
   "cell_type": "code",
   "execution_count": null,
   "id": "12f83e50",
   "metadata": {},
   "outputs": [],
   "source": [
    "# Here, I create a DataFrame to insert the evaluation metrics of the different models; this datafram will be \n",
    "# taken in by the modeling function below and expanded on.\n",
    "metric_df = pd.DataFrame(data=[\n",
    "            {\n",
    "                'model': 'mean_baseline', \n",
    "                'RMSE_train': rmse_train,\n",
    "                'RMSE_validate': rmse_validate\n",
    "                }\n",
    "            ])\n",
    "metric_df"
   ]
  },
  {
   "cell_type": "code",
   "execution_count": null,
   "id": "2c30104d",
   "metadata": {},
   "outputs": [],
   "source": [
    "# This function runs all the KBest and RFE models respectively on all the different models I've built\n",
    "# I'm saving the output to the metric_df dataframe for visualization\n",
    "metric_df = model.run_all_models_on_all_data(X_train_kbest, y_train_scaled, X_validate_kbest, y_validate_scaled, X_train_rfe, X_validate_rfe, X_test_kbest, X_test_rfe, metric_df)"
   ]
  },
  {
   "cell_type": "code",
   "execution_count": null,
   "id": "8966f205",
   "metadata": {},
   "outputs": [],
   "source": [
    "metric_df"
   ]
  },
  {
   "cell_type": "markdown",
   "id": "3f789e08",
   "metadata": {},
   "source": [
    "## As can be seen in the table above, the model that is producing the best outcome, both on train and validate, with relatively little difference between them, is the polynomial model.\n",
    "\n",
    "## The number of degrees used was 2"
   ]
  },
  {
   "cell_type": "markdown",
   "id": "d19f3f6a",
   "metadata": {},
   "source": [
    "## Model Evaluation"
   ]
  },
  {
   "cell_type": "code",
   "execution_count": null,
   "id": "02486ba5",
   "metadata": {},
   "outputs": [],
   "source": [
    "# Make the polynomial features to get a new set of features. import from sklearn\n",
    "pf = PolynomialFeatures(degree=2)\n",
    "\n",
    "# Fit and transform X_train_scaled\n",
    "X_train_degree2_rfe = pf.fit_transform(X_train_rfe)\n",
    "\n",
    "# Transform X_validate_scaled & X_test_scaled\n",
    "X_validate_degree2_rfe = pf.transform(X_validate_rfe)\n",
    "X_test_degree2_rfe =  pf.transform(X_test_rfe)"
   ]
  },
  {
   "cell_type": "code",
   "execution_count": null,
   "id": "633c5e03",
   "metadata": {},
   "outputs": [],
   "source": [
    "# I use the RFE features here:\n",
    "# Create the model object\n",
    "lm2 = LinearRegression()\n",
    "\n",
    "# Fit the model to our test data. \n",
    "lm2.fit(X_test_degree2_rfe, y_test_scaled.tax_value)\n",
    "\n",
    "# Create a column in the y_test_scaled dataframe to hold the polynomial regression prediction:\n",
    "y_test_scaled['tax_value_pred_lm2_rfe'] = lm2.predict(X_test_degree2_rfe)\n",
    "\n",
    "# Evaluate by calculating its RMSE on test\n",
    "rmse_test = mean_squared_error(y_test_scaled.tax_value, y_test_scaled.tax_value_pred_lm2_rfe) ** (1/2)\n",
    "# A statement reminding us of the RMSE on the train and validate samples:\n",
    "print(\"RMSE for Polynomial Model, degrees=2\\nTraining/In-Sample: \", rmse_train, \n",
    "      \"\\nValidation/Out-of-Sample: \", rmse_test)"
   ]
  },
  {
   "cell_type": "code",
   "execution_count": null,
   "id": "20316f98",
   "metadata": {},
   "outputs": [],
   "source": [
    "# And a statement on the RMSE of the second degree polynomial model\n",
    "print(\"RMSE for Polynomial Model, degrees=2\\nTest/Out of Sample: \", rmse_test)"
   ]
  },
  {
   "cell_type": "code",
   "execution_count": null,
   "id": "94dae3fc",
   "metadata": {},
   "outputs": [],
   "source": [
    "# This is a simple calculation of the improvement over baseline:\n",
    "(0.208898 - 0.184879) / 0.208898"
   ]
  },
  {
   "cell_type": "markdown",
   "id": "73084566",
   "metadata": {},
   "source": [
    "## WHICH IS TO SAY, AN 11.5% IMPROVEMENT OVER BASELINE PREDICTION"
   ]
  },
  {
   "cell_type": "code",
   "execution_count": null,
   "id": "fca42f53",
   "metadata": {},
   "outputs": [],
   "source": [
    "y_test_scaled.head(1)"
   ]
  },
  {
   "cell_type": "code",
   "execution_count": null,
   "id": "b3eb67cd",
   "metadata": {},
   "outputs": [],
   "source": [
    "# # y_validate.head()\n",
    "# plt.figure(figsize=(10,10))\n",
    "# # plt.plot(y_test_scaled.tax_value, y_test_scaled.tax_value_pred_mean, alpha=.5, color=\"gray\", label='_nolegend_')\n",
    "# # plt.annotate(\"Baseline: Predict Using Mean\", (1, 1))\n",
    "# plt.plot(y_test_scaled.tax_value, y_test_scaled.tax_value, alpha=.5, color=\"blue\", label='_nolegend_')\n",
    "# plt.annotate(\"The Ideal Line: Predicted = Actual\", (45,47), rotation=28)\n",
    "\n",
    "# plt.scatter(y_test_scaled.tax_value.sample(100), y_test_scaled.tax_value_pred_lm2_rfe.sample(100), \n",
    "#             alpha=.3, color=\"red\", s=100, label=\"Model: LinearRegression\")\n",
    "\n",
    "# plt.legend()\n",
    "# plt.xlabel(\"Actual Fertility\")\n",
    "# plt.ylabel(\"Predicted Fertility\")\n",
    "# plt.title(\"Where are predictions more extreme? More modest?\")\n",
    "# #plt.annotate(\"The polynomial model appears to overreact to noise\", (2.0, -10))\n",
    "# #plt.annotate(\"The OLS model (LinearRegression)\\n appears to be most consistent\", (15.5, 3))\n",
    "# plt.show()"
   ]
  },
  {
   "cell_type": "code",
   "execution_count": null,
   "id": "c036bf6f",
   "metadata": {},
   "outputs": [],
   "source": [
    "plt.figure(figsize=(20,12))\n",
    "plt.axhline(label=\"No Error\")\n",
    "plt.scatter(y_test_scaled.tax_value, y_test_scaled.tax_value_pred_lm2_rfe - y_test_scaled.tax_value , \n",
    "            alpha=.5, color=\"red\", s=100, label=\"Model: Polynomial Regression\")\n",
    "# plt.scatter(y_validate.Fertility, y_validate.Fert_pred_glm - y_validate.Fertility, \n",
    "#             alpha=.5, color=\"yellow\", s=100, label=\"Model: TweedieRegressor\")\n",
    "# plt.scatter(y_validate.Fertility, y_validate.Fert_pred_lm2 - y_validate.Fertility, \n",
    "#             alpha=.5, color=\"green\", s=100, label=\"Model 2nd degree Polynomial\")\n",
    "plt.legend()\n",
    "plt.xlabel(\"Actual Fertility\")\n",
    "plt.ylabel(\"Residual/Error: Predicted Fertility - Actual Fertility\")\n",
    "plt.title(\"Do the size of errors change as the actual value changes?\")\n",
    "plt.annotate(\"The polynomial model appears to overreact to noise\", (42,44))\n",
    "plt.annotate(\"The TweedieRegressor\\n appears to be most consistent, along with OLS\", (50,5))\n",
    "plt.show()"
   ]
  },
  {
   "cell_type": "markdown",
   "id": "03f3247e",
   "metadata": {},
   "source": [
    "## Conclusions"
   ]
  },
  {
   "cell_type": "markdown",
   "id": "2f6dedf0",
   "metadata": {},
   "source": [
    "## Summary:\n",
    "\n",
    "At the beginning of my study, I took a few high-level type questions to get a handle on the problem, and refined them slowly with the time that was available:\n",
    "   \n",
    "    - Are larger homes valued higher?  \n",
    "    - What other aspects can be identified about higher-value homes?\n",
    "    - Do more bathrooms relate to higher tax value? What about square feet per bathroom--is there a sweet spot?\n",
    "    - Newer homes are larger; they are also valued more highly. Is there an exception to the rule?\n",
    "    \n",
    "Many of these questions had clear answers, but through statistical analysis I was able to make safe assumptions, which in turn led me down paths that I may have otherwise missed. More square feet, bedrooms and bathrooms all correlate to higher tax value; who would have thought that the relationship between these factors works differently depending on your county? \n",
    "\n",
    "Even my model, which has room for improvement, was capable of predicting the tax value of homes--by over 10 percent on the test data, and with similar margins for the train and validate data. I expect it to perform as well on unseen data as well--keeping certain parameters constant.\n",
    "\n",
    "## Recommendations\n",
    "\n",
    "I recommend exploring the relationship between half bathrooms and tax value as an easy addition to the model that may bring some benefit.  Additionally, running the model on LA county as separate from Ventura and orange might see some benefit, seeing as there area some different ways that the features work on tax value there. Square feet per bathroom is an example here--it didn't make it into my model, but may have value for future models.  \n",
    "\n",
    "## Next steps\n",
    "\n",
    "Continuing to select new features from the Codeup database stands to improve the model--assuming they don't present unforeseen problems such as numerous null values, etc.  Fireplaces and pools and certain feature engineering around those elements in particular could be interesting (is it detrimental to have too many? for example). Even from my most preliminary analysis, it seemed that half baths were beneficial, and it would be interesting to look at similar phenomena in those other featurs mentioned (and unmentioned).  I would also like to explore the method I've used to eliminate outliers, at least for some features--I'm worried that there might have been some useful info that was dropped with the outliers, especially one bedroom homes.\n",
    "\n",
    "The following is a brief list of items that I'd like to add to the model:\n",
    "\n",
    "- Incorporate a \"has half bath\" feature\n",
    "- Run models on other features, including the half-bath and sfpb\n",
    "- Run models on LA versus other counties\n",
    "- Pull in other features from SQL\n",
    "- Ordinal encode the bathrooms and bedrooms"
   ]
  },
  {
   "cell_type": "code",
   "execution_count": null,
   "id": "2c781bcc",
   "metadata": {},
   "outputs": [],
   "source": []
  }
 ],
 "metadata": {
  "kernelspec": {
   "display_name": "Python 3",
   "language": "python",
   "name": "python3"
  },
  "language_info": {
   "codemirror_mode": {
    "name": "ipython",
    "version": 3
   },
   "file_extension": ".py",
   "mimetype": "text/x-python",
   "name": "python",
   "nbconvert_exporter": "python",
   "pygments_lexer": "ipython3",
   "version": "3.8.8"
  }
 },
 "nbformat": 4,
 "nbformat_minor": 5
}
