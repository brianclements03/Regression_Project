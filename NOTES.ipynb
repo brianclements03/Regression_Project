{
 "cells": [
  {
   "cell_type": "markdown",
   "id": "2fb2bbdf",
   "metadata": {},
   "source": [
    "When I run my train.corr and heatmap, is it correct to include the target variable?\n",
    "- YES"
   ]
  },
  {
   "cell_type": "markdown",
   "id": "f1ddc822",
   "metadata": {},
   "source": [
    "my visual, the long one: adjusting the (alpha?) for opaqueness. also, line color\n",
    "- SEE RAVINDER'S HELPFUL ANSWER USING scatter_kws:"
   ]
  },
  {
   "cell_type": "markdown",
   "id": "88c80c6a",
   "metadata": {},
   "source": [
    "use TARGET MEAN as BASELINE"
   ]
  },
  {
   "cell_type": "markdown",
   "id": "cd7d18bf",
   "metadata": {},
   "source": [
    "Worth doing a different model for LA county? BC of the way age doesn't drive tax value so much"
   ]
  },
  {
   "cell_type": "markdown",
   "id": "d588a902",
   "metadata": {},
   "source": [
    "don't forget to switch to the scaled data for modelling \n"
   ]
  },
  {
   "cell_type": "markdown",
   "id": "88496027",
   "metadata": {},
   "source": [
    "new sql query seems to return too few results"
   ]
  },
  {
   "cell_type": "code",
   "execution_count": 2,
   "id": "59aec7a7",
   "metadata": {},
   "outputs": [
    {
     "ename": "SyntaxError",
     "evalue": "invalid syntax (<ipython-input-2-0edc64d5a83b>, line 4)",
     "output_type": "error",
     "traceback": [
      "\u001b[0;36m  File \u001b[0;32m\"<ipython-input-2-0edc64d5a83b>\"\u001b[0;36m, line \u001b[0;32m4\u001b[0m\n\u001b[0;31m    df['has_half_bath'] = df[df.bathrooms == ] #etc etc\u001b[0m\n\u001b[0m                                             ^\u001b[0m\n\u001b[0;31mSyntaxError\u001b[0m\u001b[0;31m:\u001b[0m invalid syntax\n"
     ]
    }
   ],
   "source": [
    "# Research question: does having a half bath increase the value of your home?\n",
    "\n",
    "# 'has_half_bath' feature\n",
    "df['has_half_bath'] = df[df.bathrooms == ] #etc etc"
   ]
  },
  {
   "cell_type": "markdown",
   "id": "96a1d0c6",
   "metadata": {},
   "source": [
    "ON SCALING: for mvp, same scaler across features.  for next one, scale the beds and baths using ordinal scaler"
   ]
  },
  {
   "cell_type": "code",
   "execution_count": null,
   "id": "60f7613b",
   "metadata": {},
   "outputs": [],
   "source": []
  }
 ],
 "metadata": {
  "kernelspec": {
   "display_name": "Python 3",
   "language": "python",
   "name": "python3"
  },
  "language_info": {
   "codemirror_mode": {
    "name": "ipython",
    "version": 3
   },
   "file_extension": ".py",
   "mimetype": "text/x-python",
   "name": "python",
   "nbconvert_exporter": "python",
   "pygments_lexer": "ipython3",
   "version": "3.8.8"
  }
 },
 "nbformat": 4,
 "nbformat_minor": 5
}
