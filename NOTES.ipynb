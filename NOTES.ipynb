{
 "cells": [
  {
   "cell_type": "markdown",
   "id": "75b825ed",
   "metadata": {},
   "source": [
    "When I run my train.corr and heatmap, is it correct to include the target variable?\n",
    "- YES"
   ]
  },
  {
   "cell_type": "markdown",
   "id": "b84ef8bd",
   "metadata": {},
   "source": [
    "my visual, the long one: adjusting the (alpha?) for opaqueness. also, line color\n",
    "- SEE RAVINDER'S HELPFUL ANSWER USING scatter_kws:"
   ]
  },
  {
   "cell_type": "markdown",
   "id": "547cb71a",
   "metadata": {},
   "source": [
    "use TARGET MEAN as BASELINE"
   ]
  },
  {
   "cell_type": "markdown",
   "id": "3fdf5528",
   "metadata": {},
   "source": []
  }
 ],
 "metadata": {
  "kernelspec": {
   "display_name": "Python 3",
   "language": "python",
   "name": "python3"
  },
  "language_info": {
   "codemirror_mode": {
    "name": "ipython",
    "version": 3
   },
   "file_extension": ".py",
   "mimetype": "text/x-python",
   "name": "python",
   "nbconvert_exporter": "python",
   "pygments_lexer": "ipython3",
   "version": "3.8.8"
  }
 },
 "nbformat": 4,
 "nbformat_minor": 5
}
