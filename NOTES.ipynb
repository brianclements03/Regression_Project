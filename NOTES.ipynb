{
 "cells": [
  {
   "cell_type": "markdown",
   "id": "1c78d6da",
   "metadata": {},
   "source": [
    "When I run my train.corr and heatmap, is it correct to include the target variable?\n",
    "- YES"
   ]
  },
  {
   "cell_type": "markdown",
   "id": "c0e7f52d",
   "metadata": {},
   "source": [
    "my visual, the long one: adjusting the (alpha?) for opaqueness. also, line color\n",
    "- SEE RAVINDER'S HELPFUL ANSWER USING scatter_kws:"
   ]
  },
  {
   "cell_type": "markdown",
   "id": "b567d448",
   "metadata": {},
   "source": [
    "use TARGET MEAN as BASELINE"
   ]
  },
  {
   "cell_type": "markdown",
   "id": "61edcfb2",
   "metadata": {},
   "source": [
    "Worth doing a different model for LA county? BC of the way age doesn't drive tax value so much"
   ]
  },
  {
   "cell_type": "code",
   "execution_count": 2,
   "id": "badb2141",
   "metadata": {},
   "outputs": [
    {
     "ename": "SyntaxError",
     "evalue": "invalid syntax (<ipython-input-2-0edc64d5a83b>, line 4)",
     "output_type": "error",
     "traceback": [
      "\u001b[0;36m  File \u001b[0;32m\"<ipython-input-2-0edc64d5a83b>\"\u001b[0;36m, line \u001b[0;32m4\u001b[0m\n\u001b[0;31m    df['has_half_bath'] = df[df.bathrooms == ] #etc etc\u001b[0m\n\u001b[0m                                             ^\u001b[0m\n\u001b[0;31mSyntaxError\u001b[0m\u001b[0;31m:\u001b[0m invalid syntax\n"
     ]
    }
   ],
   "source": [
    "# Research question: does having a half bath increase the value of your home?\n",
    "\n",
    "# 'has_half_bath' feature\n",
    "df['has_half_bath'] = df[df.bathrooms == ] #etc etc"
   ]
  },
  {
   "cell_type": "markdown",
   "id": "e6be67df",
   "metadata": {},
   "source": [
    "ON SCALING: for mvp, same scaler across features.  for next one, scale the beds and baths using ordinal scaler"
   ]
  },
  {
   "cell_type": "markdown",
   "id": "a684914a",
   "metadata": {},
   "source": [
    "MISSING DATA on second draft.  So far, we have dropped it.  might want to address"
   ]
  },
  {
   "cell_type": "markdown",
   "id": "43cc0c92",
   "metadata": {},
   "source": [
    "## you have a feature engineering function, please use it"
   ]
  },
  {
   "cell_type": "markdown",
   "id": "0339d6b0",
   "metadata": {},
   "source": [
    "what features are you even throwing into the model???? please create a new df for use in the models--this was the point of the feature engineering thingy"
   ]
  },
  {
   "cell_type": "markdown",
   "id": "8255b7fa",
   "metadata": {},
   "source": [
    "Consider the k value used removing outliers--there are a couple features that may be better with a different value. I'm thinking of the 1 bedroom houses, for example."
   ]
  },
  {
   "cell_type": "markdown",
   "id": "9b1e37e3",
   "metadata": {},
   "source": [
    "### you make mention in your notebood in the exploration phase about wanting two models, so you should tryto deliver"
   ]
  },
  {
   "cell_type": "code",
   "execution_count": null,
   "id": "d47a02cf",
   "metadata": {},
   "outputs": [],
   "source": [
    "# when you go to run the selected model on test, this is the first cell to refer to\n",
    "# you will do the same manipulation for the test data set as you did on train and validate:\n",
    "\n",
    "\n",
    "# 1. Predict tax_value_pred_mean\n",
    "tax_value_pred_mean = y_train_scaled.tax_value.mean()\n",
    "y_train_scaled['tax_value_pred_mean'] = round(tax_value_pred_mean, 2)\n",
    "y_validate_scaled['tax_value_pred_mean'] = round(tax_value_pred_mean,2)"
   ]
  },
  {
   "cell_type": "markdown",
   "id": "f8ca483a",
   "metadata": {},
   "source": [
    "all the code creating the eval metrics is super distracting, any way to put it under the hood?"
   ]
  },
  {
   "cell_type": "code",
   "execution_count": null,
   "id": "9102427b",
   "metadata": {},
   "outputs": [],
   "source": []
  }
 ],
 "metadata": {
  "kernelspec": {
   "display_name": "Python 3",
   "language": "python",
   "name": "python3"
  },
  "language_info": {
   "codemirror_mode": {
    "name": "ipython",
    "version": 3
   },
   "file_extension": ".py",
   "mimetype": "text/x-python",
   "name": "python",
   "nbconvert_exporter": "python",
   "pygments_lexer": "ipython3",
   "version": "3.8.8"
  }
 },
 "nbformat": 4,
 "nbformat_minor": 5
}
