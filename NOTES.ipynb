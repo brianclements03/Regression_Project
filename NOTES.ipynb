{
 "cells": [
  {
   "cell_type": "markdown",
   "id": "615142d7",
   "metadata": {},
   "source": [
    "When I run my train.corr and heatmap, is it correct to include the target variable?"
   ]
  },
  {
   "cell_type": "markdown",
   "id": "e3d63c1f",
   "metadata": {},
   "source": [
    "Was I right to delete the tax_value so early in my exploration?"
   ]
  },
  {
   "cell_type": "code",
   "execution_count": null,
   "id": "7082d547",
   "metadata": {},
   "outputs": [],
   "source": []
  }
 ],
 "metadata": {
  "kernelspec": {
   "display_name": "Python 3",
   "language": "python",
   "name": "python3"
  },
  "language_info": {
   "codemirror_mode": {
    "name": "ipython",
    "version": 3
   },
   "file_extension": ".py",
   "mimetype": "text/x-python",
   "name": "python",
   "nbconvert_exporter": "python",
   "pygments_lexer": "ipython3",
   "version": "3.8.8"
  }
 },
 "nbformat": 4,
 "nbformat_minor": 5
}
