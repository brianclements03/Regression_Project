{
 "cells": [
  {
   "cell_type": "markdown",
   "id": "1e03ea1a",
   "metadata": {},
   "source": [
    "When I run my train.corr and heatmap, is it correct to include the target variable?"
   ]
  },
  {
   "cell_type": "markdown",
   "id": "57e62b47",
   "metadata": {},
   "source": [
    "Was I right to delete the tax_value so early in my exploration?"
   ]
  },
  {
   "cell_type": "markdown",
   "id": "b12307b3",
   "metadata": {},
   "source": [
    "my visual, the long one: adjusting the (alpha?) for opaqueness. also, line color"
   ]
  },
  {
   "cell_type": "code",
   "execution_count": null,
   "id": "fe5bbfd7",
   "metadata": {},
   "outputs": [],
   "source": []
  }
 ],
 "metadata": {
  "kernelspec": {
   "display_name": "Python 3",
   "language": "python",
   "name": "python3"
  },
  "language_info": {
   "codemirror_mode": {
    "name": "ipython",
    "version": 3
   },
   "file_extension": ".py",
   "mimetype": "text/x-python",
   "name": "python",
   "nbconvert_exporter": "python",
   "pygments_lexer": "ipython3",
   "version": "3.8.8"
  }
 },
 "nbformat": 4,
 "nbformat_minor": 5
}
